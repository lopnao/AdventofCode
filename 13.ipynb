{
 "cells": [
  {
   "cell_type": "code",
   "execution_count": 1,
   "metadata": {},
   "outputs": [],
   "source": [
    "import numpy as np\n",
    "import getres"
   ]
  },
  {
   "cell_type": "code",
   "execution_count": 2,
   "metadata": {},
   "outputs": [],
   "source": [
    "data = getres.getInput(13)"
   ]
  },
  {
   "cell_type": "code",
   "execution_count": 3,
   "metadata": {},
   "outputs": [],
   "source": [
    "test = '''/->-\\\\        \n",
    "|   |  /----\\\\\n",
    "| /-+--+-\\\\  |\n",
    "| | |  | v  |\n",
    "\\\\-+-/  \\\\-+--/\n",
    "  \\\\------/   '''"
   ]
  },
  {
   "cell_type": "markdown",
   "metadata": {},
   "source": [
    "## Methods"
   ]
  },
  {
   "cell_type": "code",
   "execution_count": 4,
   "metadata": {},
   "outputs": [],
   "source": [
    "def isATrain(symbol:str)->bool:\n",
    "    if symbol in ['^', 'v', '<', '>']:\n",
    "        return True\n",
    "    else:return False"
   ]
  },
  {
   "cell_type": "code",
   "execution_count": 5,
   "metadata": {},
   "outputs": [],
   "source": [
    "def getGrid(data:str):\n",
    "    data = data.splitlines()\n",
    "    t = np.array([[[d, d] for d in line] for line in data])\n",
    "    trains = [[y, x] for y in range(len(data)) for x in range(len(data[0])) if isATrain(t[y, x][0])]\n",
    "    trains = [[train, t[train[0], train[1]][0], 0] for train in trains]\n",
    "    return normalize(t), sorted(trains)"
   ]
  },
  {
   "cell_type": "code",
   "execution_count": 6,
   "metadata": {},
   "outputs": [],
   "source": [
    "def normalize(t):\n",
    "    for x in range(len(t[0])):\n",
    "        for y in range(len(t)):\n",
    "            if t[y, x][0] in ['^', 'v', '<', '>']:\n",
    "                up = y - 1 >= 0 and t[y - 1, x][1] != ' '\n",
    "                down = y + 1 <= len(t) - 1 and t[y +1, x][1] != ' '\n",
    "                left = x - 1 >= 0 and t[y, x -1][1] != ' '\n",
    "                right = x + 1 <= (len(t[0]) - 1) and t[y, x + 1][1] != ' '\n",
    "                if up and down:t[y, x][1] = '|'\n",
    "                elif left and right:t[y, x][1] = '-'\n",
    "                elif up and left:t[y, x][1] = '/'\n",
    "                elif up and right:t[y, x][1] = '\\\\'\n",
    "                elif left and down:t[y, x][1] = '\\\\'\n",
    "                elif right and down:t[y, x][1] = '/'\n",
    "                elif up and down and right and left:t[y, x][1] = '+'\n",
    "    return t"
   ]
  },
  {
   "cell_type": "code",
   "execution_count": 7,
   "metadata": {},
   "outputs": [],
   "source": [
    "def move(t, train, direction, noCrash, removing, trains):\n",
    "    trainX = train[0][1]\n",
    "    trainY = train[0][0]\n",
    "    train[2] = train[2] % 3\n",
    "    if direction == 'up':\n",
    "        coords = (trainY - 1, trainX)\n",
    "    elif direction == 'down':\n",
    "        coords = (trainY + 1, trainX)\n",
    "    elif direction == 'left':\n",
    "        coords = (trainY, trainX - 1)\n",
    "    elif direction == 'right':\n",
    "        coords = (trainY, trainX + 1)\n",
    "    if t[coords][0] in ['^', 'v', '<', '>']:   #Check if tile to go to is not a train\n",
    "        if not removing:\n",
    "            return t, train, crash(*coords), None\n",
    "        else:\n",
    "            train2 = [train for train in trains if (train[0][0], train[0][1]) == coords][0]\n",
    "            trainToRemove = [train, train2]\n",
    "            t[coords][0] = t[coords][1]\n",
    "            t[trainY, trainX][0] = t[trainY, trainX][1]\n",
    "            return t, train, crash(*coords), trainToRemove\n",
    "    \n",
    "    elif t[coords][1] not in ['/', '\\\\', '+']: #Check if tile to go to is not in another direction\n",
    "        if direction == 'up':\n",
    "            train[0][0] -= 1\n",
    "            t[coords][0] = '^'\n",
    "        elif direction == 'down':\n",
    "            train[0][0] += 1\n",
    "            t[coords][0] = 'v'\n",
    "        elif direction == 'left':\n",
    "            train[0][1] -= 1\n",
    "            t[coords][0] = '<'\n",
    "        elif direction == 'right':\n",
    "            train[0][1] += 1\n",
    "            t[coords][0] = '>'\n",
    "        \n",
    "        \n",
    "    elif t[coords][1] == '/':                  #Change direction\n",
    "        if direction == 'up':\n",
    "            train[0][0] -= 1\n",
    "            t[coords][0] = '>'\n",
    "        elif direction == 'down':\n",
    "            train[0][0] += 1\n",
    "            t[coords][0] = '<'\n",
    "        elif direction == 'left':\n",
    "            train[0][1] -= 1\n",
    "            t[coords][0] = 'v'\n",
    "        elif direction == 'right':\n",
    "            train[0][1] += 1\n",
    "            t[coords][0] = '^'\n",
    "            \n",
    "    elif t[coords][1] == '\\\\':\n",
    "        if direction == 'up':\n",
    "            train[0][0] -= 1\n",
    "            t[coords][0] = '<'\n",
    "        elif direction == 'down':\n",
    "            train[0][0] += 1\n",
    "            t[coords][0] = '>'\n",
    "        elif direction == 'left':\n",
    "            train[0][1] -= 1\n",
    "            t[coords][0] = '^'\n",
    "        elif direction == 'right':\n",
    "            train[0][1] += 1\n",
    "            t[coords][0] = 'v'\n",
    "            \n",
    "    elif t[coords][1] == '+':\n",
    "        if direction == 'up':\n",
    "            train[0][0] -= 1\n",
    "            if train[2] == 0:\n",
    "                t[coords][0] = '<'\n",
    "            elif train[2] == 1:\n",
    "                t[coords][0] = '^'\n",
    "            elif train[2] == 2:\n",
    "                t[coords][0] = '>'\n",
    "        elif direction == 'down':\n",
    "            train[0][0] += 1\n",
    "            if train[2] == 0:\n",
    "                t[coords][0] = '>'\n",
    "            elif train[2] == 1:\n",
    "                t[coords][0] = 'v'\n",
    "            elif train[2] == 2:\n",
    "                t[coords][0] = '<'\n",
    "        elif direction == 'left':\n",
    "            train[0][1] -= 1\n",
    "            if train[2] == 0:\n",
    "                t[coords][0] = 'v'\n",
    "            elif train[2] == 1:\n",
    "                t[coords][0] = '<'\n",
    "            elif train[2] == 2:\n",
    "                t[coords][0] = '^'\n",
    "        elif direction == 'right':\n",
    "            train[0][1] += 1\n",
    "            if train[2] == 0:\n",
    "                t[coords][0] = '^'\n",
    "            elif train[2] == 1:\n",
    "                t[coords][0] = '>'\n",
    "            elif train[2] == 2:\n",
    "                t[coords][0] = 'v'\n",
    "                \n",
    "        train[2] += 1                           #Incremente the intersection counter\n",
    "    train[1] = t[coords][0]\n",
    "    t[trainY, trainX][0] = t[trainY, trainX][1] #After moving the train on the grid, restore the current tile\n",
    "    return t, train, True, None"
   ]
  },
  {
   "cell_type": "code",
   "execution_count": 8,
   "metadata": {},
   "outputs": [],
   "source": [
    "def procTick(t, trains, tickcounter, noCrash, removing):\n",
    "    trains = sorted(trains)\n",
    "    trainsToRemove = []\n",
    "    for train in trains:\n",
    "        if train in trainsToRemove:\n",
    "            t[train[0][0], train[0][1]][0] = t[train[0][0], train[0][1]][1]\n",
    "        elif train[1] == '^':\n",
    "            t, train, noCrash, trainToRemove = move(t, train, 'up', noCrash, removing, trains)\n",
    "            if not noCrash and not removing:break\n",
    "        elif train[1] == 'v':\n",
    "            t, train, noCrash, trainToRemove = move(t, train, 'down', noCrash, removing, trains)\n",
    "            if not noCrash and not removing:break\n",
    "        elif train[1] == '<':\n",
    "            t, train, noCrash, trainToRemove = move(t, train, 'left', noCrash, removing, trains)\n",
    "            if not noCrash and not removing:break\n",
    "        elif train[1] == '>':\n",
    "            t, train, noCrash, trainToRemove = move(t, train, 'right', noCrash, removing, trains)\n",
    "            if not noCrash and not removing:break\n",
    "        if trainToRemove:\n",
    "            [trainsToRemove.append(singletrain) for singletrain in trainToRemove]\n",
    "    trains = [train for train in trains if train not in trainsToRemove]\n",
    "    tickcounter += 1\n",
    "    if removing:\n",
    "        noCrash = True\n",
    "    if noCrash:\n",
    "        pass\n",
    "#         print(f'One more Tick (tick #{tickcounter}!')\n",
    "    else:print(f'at tick : {tickcounter}')\n",
    "    if len(trains) == 1:\n",
    "        print(f'Only ONE train left at coords [x, y] :: [{trains[0][0][1]}, {trains[0][0][0]}] at tick #{tickcounter}')\n",
    "        return t, trains, tickcounter, False\n",
    "    return t, trains, tickcounter, noCrash"
   ]
  },
  {
   "cell_type": "code",
   "execution_count": 9,
   "metadata": {},
   "outputs": [],
   "source": [
    "def crash(Y, X):\n",
    "    print(f'Crash occured in coords (x, y) :: ({X}, {Y})')\n",
    "    return False\n",
    "#     exit()"
   ]
  },
  {
   "cell_type": "code",
   "execution_count": 10,
   "metadata": {},
   "outputs": [],
   "source": [
    "def procData(data, tickcounter = 0, noCrash = True, removing=False):\n",
    "    t, trains = getGrid(data)\n",
    "    while noCrash:\n",
    "        t, trains, tickcounter, noCrash = procTick(t, trains, tickcounter, noCrash, removing)"
   ]
  },
  {
   "cell_type": "markdown",
   "metadata": {},
   "source": [
    "## Results"
   ]
  },
  {
   "cell_type": "code",
   "execution_count": 11,
   "metadata": {},
   "outputs": [
    {
     "name": "stdout",
     "output_type": "stream",
     "text": [
      "Crash occured in coords (x, y) :: (83, 49)\n",
      "at tick : 329\n"
     ]
    }
   ],
   "source": [
    "procData(data) # Problem 1"
   ]
  },
  {
   "cell_type": "code",
   "execution_count": 12,
   "metadata": {
    "scrolled": false
   },
   "outputs": [
    {
     "name": "stdout",
     "output_type": "stream",
     "text": [
      "Crash occured in coords (x, y) :: (83, 49)\n",
      "Crash occured in coords (x, y) :: (67, 54)\n",
      "Crash occured in coords (x, y) :: (37, 53)\n",
      "Crash occured in coords (x, y) :: (87, 122)\n",
      "Crash occured in coords (x, y) :: (81, 15)\n",
      "Crash occured in coords (x, y) :: (62, 39)\n",
      "Crash occured in coords (x, y) :: (117, 116)\n",
      "Crash occured in coords (x, y) :: (53, 119)\n",
      "Only ONE train left at coords [x, y] :: [73, 36] at tick #16981\n"
     ]
    }
   ],
   "source": [
    "procData(data, removing=True) # Problem 2"
   ]
  },
  {
   "cell_type": "code",
   "execution_count": null,
   "metadata": {},
   "outputs": [],
   "source": []
  }
 ],
 "metadata": {
  "kernelspec": {
   "display_name": "Python 3",
   "language": "python",
   "name": "python3"
  },
  "language_info": {
   "codemirror_mode": {
    "name": "ipython",
    "version": 3
   },
   "file_extension": ".py",
   "mimetype": "text/x-python",
   "name": "python",
   "nbconvert_exporter": "python",
   "pygments_lexer": "ipython3",
   "version": "3.7.1"
  }
 },
 "nbformat": 4,
 "nbformat_minor": 2
}
