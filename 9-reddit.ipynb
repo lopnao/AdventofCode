{
 "cells": [
  {
   "cell_type": "code",
   "execution_count": 1,
   "metadata": {},
   "outputs": [],
   "source": [
    "from collections import deque, defaultdict\n",
    "import getres\n",
    "import re"
   ]
  },
  {
   "cell_type": "code",
   "execution_count": 2,
   "metadata": {},
   "outputs": [],
   "source": [
    "def play_game(data, larger=False):\n",
    "    mo = re.search('(\\d+).+?(\\d+)', data)\n",
    "    max_players = int(mo.group(1))\n",
    "    last_marble = int(mo.group(2))\n",
    "    if larger == True:last_marble *= 100\n",
    "    scores = defaultdict(int)\n",
    "    circle = deque([0])\n",
    "\n",
    "    for marble in range(1, last_marble + 1):\n",
    "        if marble % 23 == 0:\n",
    "            circle.rotate(7)\n",
    "            scores[marble % max_players] += marble + circle.pop()\n",
    "            circle.rotate(-1)\n",
    "        else:\n",
    "            circle.rotate(-1)\n",
    "            circle.append(marble)\n",
    "\n",
    "    return max(scores.values()) if scores else 0"
   ]
  },
  {
   "cell_type": "code",
   "execution_count": 3,
   "metadata": {},
   "outputs": [],
   "source": [
    "data = getres.getInput(9)"
   ]
  },
  {
   "cell_type": "code",
   "execution_count": 4,
   "metadata": {},
   "outputs": [
    {
     "data": {
      "text/plain": [
       "388131"
      ]
     },
     "execution_count": 4,
     "metadata": {},
     "output_type": "execute_result"
    }
   ],
   "source": [
    "play_game(data)"
   ]
  },
  {
   "cell_type": "code",
   "execution_count": 5,
   "metadata": {},
   "outputs": [
    {
     "data": {
      "text/plain": [
       "3239376988"
      ]
     },
     "execution_count": 5,
     "metadata": {},
     "output_type": "execute_result"
    }
   ],
   "source": [
    "play_game(data, larger=True)"
   ]
  },
  {
   "cell_type": "code",
   "execution_count": null,
   "metadata": {},
   "outputs": [],
   "source": []
  }
 ],
 "metadata": {
  "kernelspec": {
   "display_name": "Python 3",
   "language": "python",
   "name": "python3"
  },
  "language_info": {
   "codemirror_mode": {
    "name": "ipython",
    "version": 3
   },
   "file_extension": ".py",
   "mimetype": "text/x-python",
   "name": "python",
   "nbconvert_exporter": "python",
   "pygments_lexer": "ipython3",
   "version": "3.7.1"
  }
 },
 "nbformat": 4,
 "nbformat_minor": 2
}
