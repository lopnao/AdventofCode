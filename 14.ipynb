{
 "cells": [
  {
   "cell_type": "code",
   "execution_count": 1,
   "metadata": {},
   "outputs": [],
   "source": [
    "data = '430971'\n",
    "# data = '37'"
   ]
  },
  {
   "cell_type": "code",
   "execution_count": 2,
   "metadata": {},
   "outputs": [],
   "source": [
    "def initData(data):\n",
    "    board = [int(d) for d in data]\n",
    "    elf1 = [0, board[0]]\n",
    "    elf2 = [1, board[1]]\n",
    "    return board, elf1, elf2"
   ]
  },
  {
   "cell_type": "code",
   "execution_count": 3,
   "metadata": {},
   "outputs": [],
   "source": [
    "def oneMoreRound(board, elf1, elf2):\n",
    "    board = board + [int(d) for d in str(sum((elf1[1], elf2[1])))]\n",
    "    elf1 = [(elf1[0] + (elf1[1] + 1)) % len(board), board[(elf1[0] + (elf1[1] + 1)) % len(board)]]\n",
    "    elf2 = [(elf2[0] + (elf2[1] + 1)) % len(board), board[(elf2[0] + (elf2[1] + 1)) % len(board)]]\n",
    "    return board, elf1, elf2"
   ]
  },
  {
   "cell_type": "code",
   "execution_count": 14,
   "metadata": {},
   "outputs": [],
   "source": [
    "def procData(data, number):\n",
    "    initialLen = len(data)\n",
    "    initialLen = 6\n",
    "    totalLen = 0\n",
    "    board, elf1, elf2 = initData(data)\n",
    "    while totalLen < initialLen + number:\n",
    "        print(board)\n",
    "        board, elf1, elf2 = oneMoreRound(board, elf1, elf2)\n",
    "        totalLen = len(board)\n",
    "    scores = board[initialLen:initialLen+number]\n",
    "    scores = [str(d) for d in scores]\n",
    "    print(board)\n",
    "    return int(''.join(scores))"
   ]
  },
  {
   "cell_type": "code",
   "execution_count": 15,
   "metadata": {},
   "outputs": [
    {
     "name": "stdout",
     "output_type": "stream",
     "text": [
      "[4, 3, 0, 9, 7, 1]\n",
      "[4, 3, 0, 9, 7, 1, 7]\n",
      "[4, 3, 0, 9, 7, 1, 7, 2]\n",
      "[4, 3, 0, 9, 7, 1, 7, 2, 4]\n",
      "[4, 3, 0, 9, 7, 1, 7, 2, 4, 6]\n",
      "[4, 3, 0, 9, 7, 1, 7, 2, 4, 6, 2]\n",
      "[4, 3, 0, 9, 7, 1, 7, 2, 4, 6, 2, 4]\n",
      "[4, 3, 0, 9, 7, 1, 7, 2, 4, 6, 2, 4, 4]\n",
      "[4, 3, 0, 9, 7, 1, 7, 2, 4, 6, 2, 4, 4, 8]\n",
      "[4, 3, 0, 9, 7, 1, 7, 2, 4, 6, 2, 4, 4, 8, 2]\n",
      "[4, 3, 0, 9, 7, 1, 7, 2, 4, 6, 2, 4, 4, 8, 2, 4]\n"
     ]
    },
    {
     "data": {
      "text/plain": [
       "7246244824"
      ]
     },
     "execution_count": 15,
     "metadata": {},
     "output_type": "execute_result"
    }
   ],
   "source": [
    "procData(data, 10)"
   ]
  },
  {
   "cell_type": "code",
   "execution_count": 6,
   "metadata": {},
   "outputs": [],
   "source": [
    "board, elf1, elf2 = initData(data)"
   ]
  },
  {
   "cell_type": "code",
   "execution_count": 7,
   "metadata": {},
   "outputs": [],
   "source": [
    "test = [1,2,3,4,5,6,7,8,9,10]"
   ]
  },
  {
   "cell_type": "code",
   "execution_count": 8,
   "metadata": {},
   "outputs": [],
   "source": [
    "test2 = [str(d) for d in test]"
   ]
  },
  {
   "cell_type": "code",
   "execution_count": 9,
   "metadata": {},
   "outputs": [
    {
     "data": {
      "text/plain": [
       "'12345678910'"
      ]
     },
     "execution_count": 9,
     "metadata": {},
     "output_type": "execute_result"
    }
   ],
   "source": [
    "''.join(test2)"
   ]
  },
  {
   "cell_type": "code",
   "execution_count": 10,
   "metadata": {},
   "outputs": [
    {
     "data": {
      "text/plain": [
       "[3, 4, 5, 6, 7]"
      ]
     },
     "execution_count": 10,
     "metadata": {},
     "output_type": "execute_result"
    }
   ],
   "source": [
    "test[2:2+5]"
   ]
  },
  {
   "cell_type": "code",
   "execution_count": 11,
   "metadata": {},
   "outputs": [
    {
     "name": "stdout",
     "output_type": "stream",
     "text": [
      "[4, 3, 0, 9, 7, 1, 7]\n",
      "[4, 3, 0, 9, 7, 1, 7, 2]\n",
      "[4, 3, 0, 9, 7, 1, 7, 2, 4]\n",
      "[4, 3, 0, 9, 7, 1, 7, 2, 4, 6]\n",
      "[4, 3, 0, 9, 7, 1, 7, 2, 4, 6, 2]\n",
      "[4, 3, 0, 9, 7, 1, 7, 2, 4, 6, 2, 4]\n",
      "[4, 3, 0, 9, 7, 1, 7, 2, 4, 6, 2, 4, 4]\n",
      "[4, 3, 0, 9, 7, 1, 7, 2, 4, 6, 2, 4, 4, 8]\n",
      "[4, 3, 0, 9, 7, 1, 7, 2, 4, 6, 2, 4, 4, 8, 2]\n",
      "[4, 3, 0, 9, 7, 1, 7, 2, 4, 6, 2, 4, 4, 8, 2, 4]\n",
      "[4, 3, 0, 9, 7, 1, 7, 2, 4, 6, 2, 4, 4, 8, 2, 4, 4]\n",
      "[4, 3, 0, 9, 7, 1, 7, 2, 4, 6, 2, 4, 4, 8, 2, 4, 4, 1, 6]\n",
      "[4, 3, 0, 9, 7, 1, 7, 2, 4, 6, 2, 4, 4, 8, 2, 4, 4, 1, 6, 1, 8]\n",
      "[4, 3, 0, 9, 7, 1, 7, 2, 4, 6, 2, 4, 4, 8, 2, 4, 4, 1, 6, 1, 8, 1, 6]\n",
      "[4, 3, 0, 9, 7, 1, 7, 2, 4, 6, 2, 4, 4, 8, 2, 4, 4, 1, 6, 1, 8, 1, 6, 1, 2]\n",
      "[4, 3, 0, 9, 7, 1, 7, 2, 4, 6, 2, 4, 4, 8, 2, 4, 4, 1, 6, 1, 8, 1, 6, 1, 2, 1, 4]\n",
      "[4, 3, 0, 9, 7, 1, 7, 2, 4, 6, 2, 4, 4, 8, 2, 4, 4, 1, 6, 1, 8, 1, 6, 1, 2, 1, 4, 8]\n",
      "[4, 3, 0, 9, 7, 1, 7, 2, 4, 6, 2, 4, 4, 8, 2, 4, 4, 1, 6, 1, 8, 1, 6, 1, 2, 1, 4, 8, 2]\n",
      "[4, 3, 0, 9, 7, 1, 7, 2, 4, 6, 2, 4, 4, 8, 2, 4, 4, 1, 6, 1, 8, 1, 6, 1, 2, 1, 4, 8, 2, 2]\n",
      "[4, 3, 0, 9, 7, 1, 7, 2, 4, 6, 2, 4, 4, 8, 2, 4, 4, 1, 6, 1, 8, 1, 6, 1, 2, 1, 4, 8, 2, 2, 2]\n"
     ]
    }
   ],
   "source": [
    "for i in range(20):\n",
    "    board, elf1, elf2 = oneMoreRound(board, elf1, elf2)\n",
    "    print(board)"
   ]
  },
  {
   "cell_type": "code",
   "execution_count": null,
   "metadata": {},
   "outputs": [],
   "source": []
  }
 ],
 "metadata": {
  "kernelspec": {
   "display_name": "Python 3",
   "language": "python",
   "name": "python3"
  },
  "language_info": {
   "codemirror_mode": {
    "name": "ipython",
    "version": 3
   },
   "file_extension": ".py",
   "mimetype": "text/x-python",
   "name": "python",
   "nbconvert_exporter": "python",
   "pygments_lexer": "ipython3",
   "version": "3.7.1"
  }
 },
 "nbformat": 4,
 "nbformat_minor": 2
}
