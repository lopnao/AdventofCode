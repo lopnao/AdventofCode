{
 "cells": [
  {
   "cell_type": "code",
   "execution_count": 5,
   "metadata": {},
   "outputs": [],
   "source": [
    "import numpy\n",
    "import collections\n",
    "serial = 3613"
   ]
  },
  {
   "cell_type": "code",
   "execution_count": 6,
   "metadata": {},
   "outputs": [],
   "source": [
    "b = collections.deque()"
   ]
  },
  {
   "cell_type": "code",
   "execution_count": 7,
   "metadata": {},
   "outputs": [],
   "source": [
    "b.append(1)\n",
    "b.append(10)\n",
    "b.append(5)"
   ]
  },
  {
   "cell_type": "code",
   "execution_count": 8,
   "metadata": {},
   "outputs": [
    {
     "data": {
      "text/plain": [
       "10"
      ]
     },
     "execution_count": 8,
     "metadata": {},
     "output_type": "execute_result"
    }
   ],
   "source": [
    "max(b)"
   ]
  },
  {
   "cell_type": "code",
   "execution_count": 10,
   "metadata": {
    "scrolled": false
   },
   "outputs": [
    {
     "name": "stdout",
     "output_type": "stream",
     "text": [
      "3 30 20 54\n",
      "(141, 13, 233, 93)\n"
     ]
    }
   ],
   "source": [
    "def power(x, y):\n",
    "    rack = (x + 1) + 10\n",
    "    power = rack * (y + 1)\n",
    "    power += serial\n",
    "    power *= rack\n",
    "    return (power // 100 % 10) - 5\n",
    "\n",
    "grid = numpy.fromfunction(power, (300, 300))\n",
    "\n",
    "width = 3\n",
    "windows = sum(grid[x:x-width+1 or None, y:y-width+1 or None] for x in range(width) for y in range(width))\n",
    "maximum = int(windows.max())\n",
    "location = numpy.where(windows == maximum)\n",
    "print(width, maximum, location[0][0] + 1, location[1][0] + 1)\n",
    "\n",
    "allres = collections.deque()\n",
    "for width in range(1, 300):\n",
    "    windows = sum(grid[x:x-width+1 or None, y:y-width+1 or None] for x in range(width) for y in range(width))\n",
    "    maximum = int(windows.max())\n",
    "    location = numpy.where(windows == maximum)\n",
    "    allres.append((maximum, width, location[0][0] + 1, location[1][0] + 1))\n",
    "    \n",
    "print(max(allres))"
   ]
  },
  {
   "cell_type": "code",
   "execution_count": null,
   "metadata": {},
   "outputs": [],
   "source": []
  }
 ],
 "metadata": {
  "kernelspec": {
   "display_name": "Python 3",
   "language": "python",
   "name": "python3"
  },
  "language_info": {
   "codemirror_mode": {
    "name": "ipython",
    "version": 3
   },
   "file_extension": ".py",
   "mimetype": "text/x-python",
   "name": "python",
   "nbconvert_exporter": "python",
   "pygments_lexer": "ipython3",
   "version": "3.7.1"
  }
 },
 "nbformat": 4,
 "nbformat_minor": 2
}
