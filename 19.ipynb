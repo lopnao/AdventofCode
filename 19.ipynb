{
 "cells": [
  {
   "cell_type": "code",
   "execution_count": null,
   "metadata": {},
   "outputs": [],
   "source": [
    "import re\n",
    "from instruCode import instru\n",
    "import getres"
   ]
  },
  {
   "cell_type": "code",
   "execution_count": null,
   "metadata": {},
   "outputs": [],
   "source": [
    "registers = [0, 0, 0, 0, 0, 0]\n",
    "boundTo = 0"
   ]
  },
  {
   "cell_type": "code",
   "execution_count": null,
   "metadata": {},
   "outputs": [],
   "source": [
    "data = getres.getInput(19)"
   ]
  },
  {
   "cell_type": "code",
   "execution_count": null,
   "metadata": {},
   "outputs": [],
   "source": [
    "len(data.splitlines())"
   ]
  },
  {
   "cell_type": "code",
   "execution_count": null,
   "metadata": {},
   "outputs": [],
   "source": [
    "test = '''#ip 0\n",
    "seti 5 0 1\n",
    "seti 6 0 2\n",
    "addi 0 1 0\n",
    "addr 1 2 3\n",
    "setr 1 0 0\n",
    "seti 8 0 4\n",
    "seti 9 0 5'''"
   ]
  },
  {
   "cell_type": "code",
   "execution_count": null,
   "metadata": {},
   "outputs": [],
   "source": [
    "def getLine(line):\n",
    "    code, A, B, C = re.search('(\\w+) (\\d+) (\\d+) (\\d+)', line).groups()\n",
    "    return code, int(A), int(B), int(C)"
   ]
  },
  {
   "cell_type": "code",
   "execution_count": null,
   "metadata": {},
   "outputs": [],
   "source": [
    "def proc(code, A, B, C, registers, PC, boundTo):\n",
    "    registers[boundTo] = PC\n",
    "    afterRegisters = instru(code, A, B, C, registers=registers)\n",
    "    beforePC = PC\n",
    "    PC = afterRegisters[boundTo] + 1\n",
    "    return afterRegisters, PC, beforePC, True"
   ]
  },
  {
   "cell_type": "code",
   "execution_count": null,
   "metadata": {},
   "outputs": [],
   "source": [
    "def procData(data):\n",
    "    data = data.splitlines()\n",
    "    boundTo = int(data[0][4])\n",
    "    instructionList = data[1:]\n",
    "    registers = [0, 0, 0, 0, 0, 0]\n",
    "    PC = 0\n",
    "    while True:\n",
    "        registers, PC, beforePC, running = proc(*getLine(instructionList[PC]), registers=registers, PC=PC, boundTo=0)\n",
    "#         print(f'ip={beforePC} {getLine(instructionList[beforePC])} and Registers are {registers}')\n",
    "        if PC >= len(instructionList):\n",
    "            print(registers)\n",
    "            break\n",
    "        "
   ]
  },
  {
   "cell_type": "code",
   "execution_count": null,
   "metadata": {},
   "outputs": [],
   "source": []
  },
  {
   "cell_type": "code",
   "execution_count": null,
   "metadata": {},
   "outputs": [],
   "source": [
    "procData(data)"
   ]
  },
  {
   "cell_type": "code",
   "execution_count": null,
   "metadata": {},
   "outputs": [],
   "source": []
  },
  {
   "cell_type": "code",
   "execution_count": null,
   "metadata": {},
   "outputs": [],
   "source": []
  },
  {
   "cell_type": "code",
   "execution_count": null,
   "metadata": {},
   "outputs": [],
   "source": [
    "registers = [0, 0, 0, 0, 0, 0]\n",
    "boundTo = 0\n",
    "PC = 0\n",
    "running = True"
   ]
  },
  {
   "cell_type": "code",
   "execution_count": null,
   "metadata": {},
   "outputs": [],
   "source": [
    "instructionList = test.splitlines()\n",
    "while True:\n",
    "    registers, PC, beforePC, running = proc(*getLine(instructionList[PC]), registers=registers, PC=PC, boundTo=0)\n",
    "    if PC >= len(instructionList):\n",
    "        break\n",
    "    print(f'ip={beforePC} {getLine(line)} and Registers are {registers}')"
   ]
  },
  {
   "cell_type": "code",
   "execution_count": null,
   "metadata": {},
   "outputs": [],
   "source": []
  },
  {
   "cell_type": "code",
   "execution_count": null,
   "metadata": {},
   "outputs": [],
   "source": [
    "data.splitlines()[:]"
   ]
  },
  {
   "cell_type": "code",
   "execution_count": null,
   "metadata": {},
   "outputs": [],
   "source": []
  }
 ],
 "metadata": {
  "kernelspec": {
   "display_name": "Python 3",
   "language": "python",
   "name": "python3"
  },
  "language_info": {
   "codemirror_mode": {
    "name": "ipython",
    "version": 3
   },
   "file_extension": ".py",
   "mimetype": "text/x-python",
   "name": "python",
   "nbconvert_exporter": "python",
   "pygments_lexer": "ipython3",
   "version": "3.7.1"
  }
 },
 "nbformat": 4,
 "nbformat_minor": 2
}
