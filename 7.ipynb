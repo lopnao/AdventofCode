{
 "cells": [
  {
   "cell_type": "code",
   "execution_count": 1,
   "metadata": {},
   "outputs": [],
   "source": [
    "from collections import defaultdict\n",
    "import string"
   ]
  },
  {
   "cell_type": "markdown",
   "metadata": {},
   "source": [
    "## Methods"
   ]
  },
  {
   "cell_type": "code",
   "execution_count": 2,
   "metadata": {},
   "outputs": [],
   "source": [
    "def getInput(day:int)->str:\n",
    "    with open(f'{day}.in') as file:\n",
    "        res = file.read()\n",
    "    return res"
   ]
  },
  {
   "cell_type": "code",
   "execution_count": 3,
   "metadata": {},
   "outputs": [],
   "source": [
    "def isReady(step:str, req, res) -> bool:\n",
    "    if False in [True if x in res else False for x in list(req[step])]:return False\n",
    "    else:return True"
   ]
  },
  {
   "cell_type": "code",
   "execution_count": 4,
   "metadata": {},
   "outputs": [],
   "source": [
    "def procData(data:str) -> str:\n",
    "    data = data.splitlines()\n",
    "    req = defaultdict(set)\n",
    "    ready = set()\n",
    "    res = []\n",
    "    # Init\n",
    "    {req[x[36]].add(x[5]) for x in data}\n",
    "    all_req = set([item for sublist in [list(req[x]) for x in req.keys()] for item in sublist])\n",
    "    {ready.add(x) for x in all_req if x not in req.keys()}\n",
    "    # Proc\n",
    "    for i in range(len(all_req.union(ready))+1):\n",
    "        if ready:\n",
    "            res.append(sorted(list(ready))[0])\n",
    "            ready.remove(sorted(list(ready))[0])\n",
    "        {ready.add(x) for x in req.keys() if isReady(x, req, res) and x not in res}\n",
    "    return ''.join(res)"
   ]
  },
  {
   "cell_type": "code",
   "execution_count": 5,
   "metadata": {},
   "outputs": [],
   "source": [
    "def nextStep(steps:str, done, workInProgress, req):\n",
    "    for x in steps:\n",
    "        if x not in done and x not in workInProgress.keys() and isNextStepPossible(x, req, done):\n",
    "            return x\n",
    "    return None"
   ]
  },
  {
   "cell_type": "code",
   "execution_count": 6,
   "metadata": {},
   "outputs": [],
   "source": [
    "def isNextStepPossible(nextstep:str, req, done):\n",
    "    if not nextstep:return False\n",
    "    if nextstep not in req.keys():return True\n",
    "    elif False in [True if x in done else False for x in list(req[nextstep])]:return False\n",
    "    else:return True"
   ]
  },
  {
   "cell_type": "code",
   "execution_count": 7,
   "metadata": {},
   "outputs": [],
   "source": [
    "def procData2(data:str, workersNumber:int, stepDuration:int):\n",
    "    steps = procData(data)\n",
    "    timing = -1\n",
    "    workInProgress = defaultdict(dict)\n",
    "    done = []\n",
    "    durationDict = {x: stepDuration+1+n for n, x in enumerate(string.ascii_uppercase)}\n",
    "    req = defaultdict(set)\n",
    "    {req[x[36]].add(x[5]) for x in data.splitlines()}\n",
    "    while len(done) < len(steps):\n",
    "        timing += 1\n",
    "        \n",
    "        worksteps = list(workInProgress.keys())\n",
    "        for step in worksteps:\n",
    "            workInProgress[step] -= 1\n",
    "            if workInProgress[step] == 0:\n",
    "                done.append(step)\n",
    "                del workInProgress[step]\n",
    "        if len(workInProgress.keys()) < workersNumber and nextStep(steps=steps, done=done, workInProgress=workInProgress,\n",
    "                                                                   req=req):\n",
    "            for i in range(workersNumber-len(workInProgress.keys())):\n",
    "                nextstep = nextStep(steps=steps, done=done, workInProgress=workInProgress, req=req)\n",
    "                if nextstep:\n",
    "                    workInProgress[nextstep] = durationDict[nextstep]\n",
    "        nextstep = nextStep(steps=steps, done=done, workInProgress=workInProgress, req=req)\n",
    "    return timing, ''.join(done)"
   ]
  },
  {
   "cell_type": "markdown",
   "metadata": {},
   "source": [
    "## Results"
   ]
  },
  {
   "cell_type": "code",
   "execution_count": 8,
   "metadata": {},
   "outputs": [],
   "source": [
    "data = getInput(7)"
   ]
  },
  {
   "cell_type": "code",
   "execution_count": 9,
   "metadata": {},
   "outputs": [
    {
     "data": {
      "text/plain": [
       "'IJLFUVDACEHGRZPNKQWSBTMXOY'"
      ]
     },
     "execution_count": 9,
     "metadata": {},
     "output_type": "execute_result"
    }
   ],
   "source": [
    "procData(data)"
   ]
  },
  {
   "cell_type": "code",
   "execution_count": 10,
   "metadata": {
    "scrolled": false
   },
   "outputs": [
    {
     "data": {
      "text/plain": [
       "(1072, 'IJLVFDUHACERGZPNQKWSBTMXOY')"
      ]
     },
     "execution_count": 10,
     "metadata": {},
     "output_type": "execute_result"
    }
   ],
   "source": [
    "procData2(data=data, workersNumber=5, stepDuration=60)"
   ]
  },
  {
   "cell_type": "code",
   "execution_count": null,
   "metadata": {},
   "outputs": [],
   "source": []
  },
  {
   "cell_type": "code",
   "execution_count": null,
   "metadata": {},
   "outputs": [],
   "source": []
  },
  {
   "cell_type": "code",
   "execution_count": null,
   "metadata": {},
   "outputs": [],
   "source": []
  },
  {
   "cell_type": "code",
   "execution_count": null,
   "metadata": {},
   "outputs": [],
   "source": []
  },
  {
   "cell_type": "code",
   "execution_count": null,
   "metadata": {},
   "outputs": [],
   "source": []
  }
 ],
 "metadata": {
  "kernelspec": {
   "display_name": "Python 3",
   "language": "python",
   "name": "python3"
  },
  "language_info": {
   "codemirror_mode": {
    "name": "ipython",
    "version": 3
   },
   "file_extension": ".py",
   "mimetype": "text/x-python",
   "name": "python",
   "nbconvert_exporter": "python",
   "pygments_lexer": "ipython3",
   "version": "3.7.1"
  }
 },
 "nbformat": 4,
 "nbformat_minor": 2
}
