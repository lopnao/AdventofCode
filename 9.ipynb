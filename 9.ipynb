{
 "cells": [
  {
   "cell_type": "code",
   "execution_count": 1,
   "metadata": {},
   "outputs": [],
   "source": [
    "import getres\n",
    "import re\n",
    "from collections import defaultdict"
   ]
  },
  {
   "cell_type": "markdown",
   "metadata": {},
   "source": [
    "## Methods"
   ]
  },
  {
   "cell_type": "code",
   "execution_count": 2,
   "metadata": {},
   "outputs": [],
   "source": [
    "def addingMarble(circle, currentMarble, marbleToAdd, currentPlayer, scores):\n",
    "    currentMarbleIndex = [i for i, v in enumerate(circle) if v == currentMarble][0]\n",
    "    if marbleToAdd % 23 == 0 and marbleToAdd:\n",
    "        if scores[currentPlayer]:scores[currentPlayer] += marbleToAdd\n",
    "        else:scores[currentPlayer] = marbleToAdd\n",
    "        removedMarble = circle[currentMarbleIndex-7]\n",
    "        scores[currentPlayer] += removedMarble\n",
    "        circle = circle[:currentMarbleIndex-7] + circle[currentMarbleIndex-6:]\n",
    "        currentMarble = circle[currentMarbleIndex-7]\n",
    "    elif circle == [0]:\n",
    "        circle = [0, 1]\n",
    "        currentMarble = 1\n",
    "    else:\n",
    "        toInsert = (currentMarbleIndex+2) % len(circle)\n",
    "        if toInsert == 0:circle.append(marbleToAdd)  \n",
    "        else:circle.insert(toInsert, marbleToAdd)\n",
    "        currentMarble = marbleToAdd\n",
    "    return circle, currentMarble, scores"
   ]
  },
  {
   "cell_type": "code",
   "execution_count": 3,
   "metadata": {},
   "outputs": [],
   "source": [
    "def getData(data):\n",
    "    mo = re.search('(\\d+).+?(\\d+)', data)\n",
    "    playersNumber = int(mo.group(1))\n",
    "    marblesNumber = int(mo.group(2))\n",
    "    scores = defaultdict(dict)\n",
    "    circle = [0]\n",
    "    currentMarble = 0\n",
    "    for marble, l in enumerate(range(marblesNumber), start=1):\n",
    "        currentPlayer = marble % playersNumber\n",
    "        circle, currentMarble, scores = addingMarble(circle=circle, currentMarble=currentMarble, \n",
    "                     marbleToAdd=marble, currentPlayer=currentPlayer, scores=scores)\n",
    "    \n",
    "    return max([s for p, s in scores.items()])"
   ]
  },
  {
   "cell_type": "code",
   "execution_count": null,
   "metadata": {},
   "outputs": [],
   "source": []
  },
  {
   "cell_type": "markdown",
   "metadata": {},
   "source": [
    "## Results"
   ]
  },
  {
   "cell_type": "code",
   "execution_count": null,
   "metadata": {},
   "outputs": [],
   "source": []
  },
  {
   "cell_type": "code",
   "execution_count": 4,
   "metadata": {},
   "outputs": [],
   "source": [
    "data = getres.getInput(9)"
   ]
  },
  {
   "cell_type": "code",
   "execution_count": 5,
   "metadata": {},
   "outputs": [
    {
     "data": {
      "text/plain": [
       "'459 players; last marble is worth 72103 points'"
      ]
     },
     "execution_count": 5,
     "metadata": {},
     "output_type": "execute_result"
    }
   ],
   "source": [
    "data"
   ]
  },
  {
   "cell_type": "code",
   "execution_count": 6,
   "metadata": {},
   "outputs": [],
   "source": [
    "test = [\n",
    "    '10 players; last marble is worth 1618 points',\n",
    "    '13 players; last marble is worth 7999 points',\n",
    "    '17 players; last marble is worth 1104 points',\n",
    "    '21 players; last marble is worth 6111 points',\n",
    "    '9 players; last marble is worth 25 points'\n",
    "]"
   ]
  },
  {
   "cell_type": "code",
   "execution_count": 7,
   "metadata": {},
   "outputs": [
    {
     "data": {
      "text/plain": [
       "32"
      ]
     },
     "execution_count": 7,
     "metadata": {},
     "output_type": "execute_result"
    }
   ],
   "source": [
    "getData(test[4])"
   ]
  },
  {
   "cell_type": "code",
   "execution_count": 8,
   "metadata": {},
   "outputs": [
    {
     "name": "stdout",
     "output_type": "stream",
     "text": [
      "9205\n",
      "145362\n",
      "2666\n",
      "53710\n",
      "32\n"
     ]
    }
   ],
   "source": [
    "for t in test:\n",
    "    print(getData(t))"
   ]
  },
  {
   "cell_type": "code",
   "execution_count": 10,
   "metadata": {},
   "outputs": [],
   "source": [
    "# getData(test)"
   ]
  },
  {
   "cell_type": "code",
   "execution_count": 11,
   "metadata": {},
   "outputs": [
    {
     "data": {
      "text/plain": [
       "390211"
      ]
     },
     "execution_count": 11,
     "metadata": {},
     "output_type": "execute_result"
    }
   ],
   "source": [
    "getData(data)"
   ]
  },
  {
   "cell_type": "code",
   "execution_count": null,
   "metadata": {},
   "outputs": [],
   "source": []
  },
  {
   "cell_type": "code",
   "execution_count": null,
   "metadata": {},
   "outputs": [],
   "source": []
  }
 ],
 "metadata": {
  "kernelspec": {
   "display_name": "Python 3",
   "language": "python",
   "name": "python3"
  },
  "language_info": {
   "codemirror_mode": {
    "name": "ipython",
    "version": 3
   },
   "file_extension": ".py",
   "mimetype": "text/x-python",
   "name": "python",
   "nbconvert_exporter": "python",
   "pygments_lexer": "ipython3",
   "version": "3.7.1"
  }
 },
 "nbformat": 4,
 "nbformat_minor": 2
}
