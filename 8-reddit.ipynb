{
 "cells": [
  {
   "cell_type": "code",
   "execution_count": 6,
   "metadata": {},
   "outputs": [],
   "source": [
    "def getInput(day:int)->str:\n",
    "    with open(f'{day}.in') as file:\n",
    "        res = file.read()\n",
    "    return res"
   ]
  },
  {
   "cell_type": "code",
   "execution_count": 7,
   "metadata": {},
   "outputs": [],
   "source": [
    "def parse(data):\n",
    "    children, metas = data[:2]\n",
    "    data = data[2:]\n",
    "    scores = []\n",
    "    totals = 0\n",
    "\n",
    "    for i in range(children):\n",
    "        total, score, data = parse(data)\n",
    "        totals += total\n",
    "        scores.append(score)\n",
    "\n",
    "    totals += sum(data[:metas])\n",
    "\n",
    "    if children == 0:\n",
    "        return (totals, sum(data[:metas]), data[metas:])\n",
    "    else:\n",
    "        return (\n",
    "            totals,\n",
    "            sum(scores[k - 1] for k in data[:metas] if k > 0 and k <= len(scores)),\n",
    "            data[metas:]\n",
    "        )\n",
    "\n",
    "total, value, remaining = parse(data)\n",
    "\n"
   ]
  },
  {
   "cell_type": "code",
   "execution_count": 8,
   "metadata": {},
   "outputs": [],
   "source": [
    "data = [int(x) for x in getInput(8).split()]"
   ]
  },
  {
   "cell_type": "code",
   "execution_count": null,
   "metadata": {},
   "outputs": [],
   "source": []
  },
  {
   "cell_type": "code",
   "execution_count": 9,
   "metadata": {},
   "outputs": [
    {
     "name": "stdout",
     "output_type": "stream",
     "text": [
      "part 1: 40036\n",
      "part 2: 21677\n"
     ]
    }
   ],
   "source": [
    "print('part 1:', total)\n",
    "print('part 2:', value)"
   ]
  },
  {
   "cell_type": "code",
   "execution_count": null,
   "metadata": {},
   "outputs": [],
   "source": []
  }
 ],
 "metadata": {
  "kernelspec": {
   "display_name": "Python 3",
   "language": "python",
   "name": "python3"
  },
  "language_info": {
   "codemirror_mode": {
    "name": "ipython",
    "version": 3
   },
   "file_extension": ".py",
   "mimetype": "text/x-python",
   "name": "python",
   "nbconvert_exporter": "python",
   "pygments_lexer": "ipython3",
   "version": "3.7.1"
  }
 },
 "nbformat": 4,
 "nbformat_minor": 2
}
