{
 "cells": [
  {
   "cell_type": "code",
   "execution_count": 66,
   "metadata": {},
   "outputs": [],
   "source": [
    "import getres\n",
    "import re"
   ]
  },
  {
   "cell_type": "code",
   "execution_count": 59,
   "metadata": {},
   "outputs": [],
   "source": [
    "data = getres.getInput(5)"
   ]
  },
  {
   "cell_type": "markdown",
   "metadata": {},
   "source": [
    "## Methods"
   ]
  },
  {
   "cell_type": "code",
   "execution_count": 62,
   "metadata": {},
   "outputs": [],
   "source": [
    "def niceOrNot(string:str):\n",
    "    nice1 = len([d for d in string if d in 'aeiou']) > 2\n",
    "    nice2 = [True for d in set(string) if d+d in string]\n",
    "    nice3 = not bool([d for d in ['ab', 'cd', 'pq', 'xy'] if d in string])\n",
    "    if nice1 and nice2 and nice3:return True\n",
    "    else:return False"
   ]
  },
  {
   "cell_type": "code",
   "execution_count": 115,
   "metadata": {},
   "outputs": [],
   "source": [
    "def niceOrNot2(string:str):\n",
    "    nice1 = bool([string.count(dd) for dd in set([string[i:i+2] for i in range(len(string)-1)]) if string.count(dd) > 1])\n",
    "    nice2 = any([re.search(f'\\w*{d}\\w{d}\\w*', string) for d in set(string)])\n",
    "    if nice1 and nice2:return True\n",
    "    else:return False"
   ]
  },
  {
   "cell_type": "code",
   "execution_count": 123,
   "metadata": {},
   "outputs": [],
   "source": [
    "def procData(data:str, part2=False):\n",
    "    data = data.splitlines()\n",
    "    if part2:return len([d for d in data if niceOrNot2(d) == True])\n",
    "    return len([d for d in data if niceOrNot(d) == True])"
   ]
  },
  {
   "cell_type": "markdown",
   "metadata": {},
   "source": [
    "## Results"
   ]
  },
  {
   "cell_type": "code",
   "execution_count": 64,
   "metadata": {},
   "outputs": [
    {
     "data": {
      "text/plain": [
       "236"
      ]
     },
     "execution_count": 64,
     "metadata": {},
     "output_type": "execute_result"
    }
   ],
   "source": [
    "procData(data)"
   ]
  },
  {
   "cell_type": "code",
   "execution_count": 124,
   "metadata": {},
   "outputs": [
    {
     "data": {
      "text/plain": [
       "51"
      ]
     },
     "execution_count": 124,
     "metadata": {},
     "output_type": "execute_result"
    }
   ],
   "source": [
    "procData(data, part2=True)"
   ]
  }
 ],
 "metadata": {
  "kernelspec": {
   "display_name": "Python 3",
   "language": "python",
   "name": "python3"
  },
  "language_info": {
   "codemirror_mode": {
    "name": "ipython",
    "version": 3
   },
   "file_extension": ".py",
   "mimetype": "text/x-python",
   "name": "python",
   "nbconvert_exporter": "python",
   "pygments_lexer": "ipython3",
   "version": "3.7.1"
  }
 },
 "nbformat": 4,
 "nbformat_minor": 2
}
