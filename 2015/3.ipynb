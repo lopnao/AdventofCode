{
 "cells": [
  {
   "cell_type": "code",
   "execution_count": 1,
   "metadata": {},
   "outputs": [],
   "source": [
    "import getres"
   ]
  },
  {
   "cell_type": "code",
   "execution_count": 2,
   "metadata": {},
   "outputs": [],
   "source": [
    "def procData(data):\n",
    "    currentX = 0\n",
    "    currentY = 0\n",
    "    houseVisited = set()\n",
    "    houseVisited.add((currentX, currentY))\n",
    "    for d in data:\n",
    "        if d == '^':currentY += 1\n",
    "        elif d == 'v':currentY -=1\n",
    "        elif d == '>':currentX += 1\n",
    "        elif d == '<':currentX -= 1\n",
    "        houseVisited.add((currentX, currentY))\n",
    "    return len(houseVisited)"
   ]
  },
  {
   "cell_type": "code",
   "execution_count": 3,
   "metadata": {},
   "outputs": [],
   "source": [
    "def procData2(data):\n",
    "    currentX1 = 0\n",
    "    currentY1 = 0\n",
    "    currentX2 = 0\n",
    "    currentY2 = 0\n",
    "    houseVisited = set()\n",
    "    houseVisited.add((currentX1, currentY1))\n",
    "    for v, d in enumerate(data):\n",
    "        if v % 2 == 0:\n",
    "            if d == '^':currentY1 += 1\n",
    "            elif d == 'v':currentY1 -= 1\n",
    "            elif d == '>':currentX1 += 1\n",
    "            elif d == '<':currentX1 -= 1\n",
    "            if data[v+1] == '^':currentY2 += 1\n",
    "            elif data[v+1] == 'v':currentY2 -= 1\n",
    "            elif data[v+1] == '>':currentX2 += 1\n",
    "            elif data[v+1] == '<':currentX2 -= 1\n",
    "            houseVisited.add((currentX1, currentY1))\n",
    "            houseVisited.add((currentX2, currentY2))\n",
    "    return len(houseVisited)"
   ]
  },
  {
   "cell_type": "code",
   "execution_count": 4,
   "metadata": {},
   "outputs": [],
   "source": [
    "data = getres.getInput(3)"
   ]
  },
  {
   "cell_type": "code",
   "execution_count": 5,
   "metadata": {},
   "outputs": [
    {
     "data": {
      "text/plain": [
       "2565"
      ]
     },
     "execution_count": 5,
     "metadata": {},
     "output_type": "execute_result"
    }
   ],
   "source": [
    "procData(data)"
   ]
  },
  {
   "cell_type": "code",
   "execution_count": 6,
   "metadata": {},
   "outputs": [
    {
     "data": {
      "text/plain": [
       "2639"
      ]
     },
     "execution_count": 6,
     "metadata": {},
     "output_type": "execute_result"
    }
   ],
   "source": [
    "procData2(data)"
   ]
  },
  {
   "cell_type": "code",
   "execution_count": null,
   "metadata": {},
   "outputs": [],
   "source": []
  }
 ],
 "metadata": {
  "kernelspec": {
   "display_name": "Python 3",
   "language": "python",
   "name": "python3"
  },
  "language_info": {
   "codemirror_mode": {
    "name": "ipython",
    "version": 3
   },
   "file_extension": ".py",
   "mimetype": "text/x-python",
   "name": "python",
   "nbconvert_exporter": "python",
   "pygments_lexer": "ipython3",
   "version": "3.7.1"
  }
 },
 "nbformat": 4,
 "nbformat_minor": 2
}
