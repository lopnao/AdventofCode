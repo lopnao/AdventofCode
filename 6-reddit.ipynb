{
 "cells": [
  {
   "cell_type": "code",
   "execution_count": 1,
   "metadata": {},
   "outputs": [],
   "source": [
    "from collections import defaultdict"
   ]
  },
  {
   "cell_type": "markdown",
   "metadata": {},
   "source": [
    "## Methods"
   ]
  },
  {
   "cell_type": "code",
   "execution_count": 2,
   "metadata": {},
   "outputs": [],
   "source": [
    "def getInput(day:int)->str:\n",
    "    with open(f'{day}.in') as file:\n",
    "        res = file.read()\n",
    "    return res"
   ]
  },
  {
   "cell_type": "code",
   "execution_count": 3,
   "metadata": {},
   "outputs": [],
   "source": [
    "def part1(lines):\n",
    "    coords = set()\n",
    "    max_r = max_c = 0\n",
    "\n",
    "    for line in lines:\n",
    "        r, c = map(int, line.split(\", \"))\n",
    "        coords.add((r, c))\n",
    "        max_r = max(max_r, r)\n",
    "        max_c = max(max_c, c)\n",
    "\n",
    "    coord_id_to_point = {coord_id: point for coord_id, point in enumerate(coords, start=1)}\n",
    "    region_sizes = defaultdict(int)\n",
    "    infinite_ids = set()\n",
    "\n",
    "    for i in range(max_r + 1):\n",
    "        for j in range(max_c + 1):\n",
    "            min_dists = sorted([(abs(r - i) + abs(c - j), coord_id) for coord_id, (r, c) in coord_id_to_point.items()])\n",
    "\n",
    "            if len(min_dists) == 1 or min_dists[0][0] != min_dists[1][0]:\n",
    "                coord_id = min_dists[0][1]\n",
    "                region_sizes[coord_id] += 1\n",
    "\n",
    "                if i == 0 or i == max_r or j == 0 or j == max_c:\n",
    "                    infinite_ids.add(coord_id)\n",
    "\n",
    "    return max(size for coord_id, size in region_sizes.items() if coord_id not in infinite_ids)"
   ]
  },
  {
   "cell_type": "code",
   "execution_count": 4,
   "metadata": {},
   "outputs": [],
   "source": [
    "def part2(lines, manhattan_limit=10000):\n",
    "    coords = set()\n",
    "    max_r = max_c = 0\n",
    "\n",
    "    for line in lines:\n",
    "        r, c = map(int, line.split(\", \"))\n",
    "        coords.add((r, c))\n",
    "        max_r = max(max_r, r)\n",
    "        max_c = max(max_c, c)\n",
    "\n",
    "    size_shared_region = 0\n",
    "\n",
    "    for i in range(max_r + 1):\n",
    "        for j in range(max_c + 1):\n",
    "            size_shared_region += int(sum(abs(r - i) + abs(c - j) for r, c in coords) < manhattan_limit)\n",
    "\n",
    "    return size_shared_region"
   ]
  },
  {
   "cell_type": "markdown",
   "metadata": {},
   "source": [
    "## Results"
   ]
  },
  {
   "cell_type": "code",
   "execution_count": 5,
   "metadata": {},
   "outputs": [],
   "source": [
    "data = getInput(6).splitlines()"
   ]
  },
  {
   "cell_type": "code",
   "execution_count": 6,
   "metadata": {},
   "outputs": [
    {
     "name": "stdout",
     "output_type": "stream",
     "text": [
      "3660\n",
      "3660\n",
      "3660\n",
      "3660\n",
      "3660\n",
      "3660\n",
      "3660\n",
      "3660\n",
      "2.01 s ± 17.7 ms per loop (mean ± std. dev. of 7 runs, 1 loop each)\n"
     ]
    }
   ],
   "source": [
    "%%timeit\n",
    "print(part1(data))"
   ]
  },
  {
   "cell_type": "code",
   "execution_count": 7,
   "metadata": {},
   "outputs": [
    {
     "name": "stdout",
     "output_type": "stream",
     "text": [
      "35928\n",
      "35928\n",
      "35928\n",
      "35928\n",
      "35928\n",
      "35928\n",
      "35928\n",
      "35928\n",
      "1.22 s ± 5.91 ms per loop (mean ± std. dev. of 7 runs, 1 loop each)\n"
     ]
    }
   ],
   "source": [
    "%%timeit\n",
    "print(part2(data))"
   ]
  },
  {
   "cell_type": "code",
   "execution_count": null,
   "metadata": {},
   "outputs": [],
   "source": []
  }
 ],
 "metadata": {
  "kernelspec": {
   "display_name": "Python 3",
   "language": "python",
   "name": "python3"
  },
  "language_info": {
   "codemirror_mode": {
    "name": "ipython",
    "version": 3
   },
   "file_extension": ".py",
   "mimetype": "text/x-python",
   "name": "python",
   "nbconvert_exporter": "python",
   "pygments_lexer": "ipython3",
   "version": "3.6.6"
  }
 },
 "nbformat": 4,
 "nbformat_minor": 2
}
