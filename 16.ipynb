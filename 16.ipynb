{
 "cells": [
  {
   "cell_type": "code",
   "execution_count": 1,
   "metadata": {},
   "outputs": [],
   "source": [
    "import re\n",
    "import getres\n",
    "import collections"
   ]
  },
  {
   "cell_type": "markdown",
   "metadata": {},
   "source": [
    "## Methods"
   ]
  },
  {
   "cell_type": "code",
   "execution_count": 2,
   "metadata": {},
   "outputs": [],
   "source": [
    "registers = [0, 0, 0, 0]"
   ]
  },
  {
   "cell_type": "code",
   "execution_count": 3,
   "metadata": {},
   "outputs": [],
   "source": [
    "codeList = ['addr', 'addi', 'mulr', 'muli', 'banr', 'bani', 'borr', 'bori', 'setr', 'seti', \n",
    "            'gtir', 'gtri', 'gtrr', 'eqir', 'eqri', 'eqrr']"
   ]
  },
  {
   "cell_type": "code",
   "execution_count": 4,
   "metadata": {},
   "outputs": [],
   "source": [
    "codeCount = collections.defaultdict(dict)"
   ]
  },
  {
   "cell_type": "code",
   "execution_count": 5,
   "metadata": {},
   "outputs": [],
   "source": [
    "def procOpcode(code, A, B, C, registers):\n",
    "    if code == 'addr':\n",
    "        registers[C] = registers[A] + registers[B]\n",
    "        return registers\n",
    "    elif code == 'addi':\n",
    "        registers[C] = registers[A] + B\n",
    "        return registers\n",
    "    elif code == 'mulr':\n",
    "        registers[C] = registers[A] * registers[B]\n",
    "        return registers\n",
    "    elif code == 'muli':\n",
    "        registers[C] = registers[A] * B\n",
    "        return registers\n",
    "    elif code == 'banr':\n",
    "        if registers[A] and registers[B]:\n",
    "            registers[C] = 1\n",
    "        else:\n",
    "            registers[C] = 0\n",
    "        return registers\n",
    "    elif code == 'bani':\n",
    "        if registers[A] and B:\n",
    "            registers[C] = 1\n",
    "        else:\n",
    "            registers[C] = 0\n",
    "        return registers\n",
    "    elif code == 'borr':\n",
    "        if registers[A] or registers[B]:\n",
    "            registers[C] = 1\n",
    "        else:\n",
    "            registers[C] = 0\n",
    "        return registers\n",
    "    elif code == 'bori':\n",
    "        if registers[A] or B:\n",
    "            registers[C] = 1\n",
    "        else:\n",
    "            registers[C] = 0\n",
    "        return registers\n",
    "    elif code == 'setr':\n",
    "        registers[C] = registers[A]\n",
    "        return registers\n",
    "    elif code == 'seti':\n",
    "        registers[C] = A\n",
    "        return registers\n",
    "    elif code == 'gtir':\n",
    "        if A > registers[B]:\n",
    "            registers[C] = 1\n",
    "        else:\n",
    "            registers[C] = 0\n",
    "        return registers\n",
    "    elif code == 'gtri':\n",
    "        if registers[A] > B:\n",
    "            registers[C] = 1\n",
    "        else:\n",
    "            registers[C] = 0\n",
    "        return registers\n",
    "    elif code == 'gtrr':\n",
    "        if registers[A] > registers[B]:\n",
    "            registers[C] = 1\n",
    "        else:\n",
    "            registers[C] = 0\n",
    "        return registers\n",
    "    elif code == 'eqir':\n",
    "        if A == registers[B]:\n",
    "            registers[C] = 1\n",
    "        else:\n",
    "            registers[C] = 0\n",
    "        return registers\n",
    "    elif code == 'eqri':\n",
    "        if registers[A] == B:\n",
    "            registers[C] = 1\n",
    "        else:\n",
    "            registers[C] = 0\n",
    "        return registers\n",
    "    elif code == 'eqrr':\n",
    "        if registers[A] == registers[B]:\n",
    "            registers[C] = 1\n",
    "        else:\n",
    "            registers[C] = 0\n",
    "        return registers\n",
    "    else:print('Wrong Code.')"
   ]
  },
  {
   "cell_type": "code",
   "execution_count": 6,
   "metadata": {},
   "outputs": [],
   "source": [
    "def testCode(chunk, codeList, codeCount, threeOrMore=False):\n",
    "    if threeOrMore:\n",
    "        numberOfCode = []\n",
    "    for code in codeList:\n",
    "        bA, bB, bC, bD = re.search('Before: \\[(\\d+), (\\d+), (\\d+), (\\d+)]', chunk[0]).groups()\n",
    "        bA, bB, bC, bD = int(bA), int(bB), int(bC), int(bD)\n",
    "        beforeRegisters = [bA, bB, bC, bD]\n",
    "        OpCodeNumber, A, B, C = re.search('(\\d+) (\\d+) (\\d+) (\\d+)', chunk[1]).groups()\n",
    "        OpCodeNumber, A, B, C = int(OpCodeNumber), int(A), int(B), int(C)\n",
    "        aA, aB, aC, aD = re.search('After:  \\[(\\d+), (\\d+), (\\d+), (\\d+)]', \n",
    "                                                                  chunk[2]).groups()\n",
    "        aA, aB, aC, aD = int(aA), int(aB), int(aC), int(aD)\n",
    "        afterRegisters = [aA, aB, aC, aD]\n",
    "        result = procOpcode(code, A, B, C, beforeRegisters)\n",
    "        print(f'For Code : {code} and parameters : A = {A}, B = {B}, C= {C}')\n",
    "        print(f'Code : {code} ||| Before : {beforeRegisters} || After : {afterRegisters} || Result : {result}')\n",
    "        if afterRegisters == result:\n",
    "            if threeOrMore:\n",
    "                numberOfCode.append(code)\n",
    "            if code in codeCount[OpCodeNumber].keys():\n",
    "                codeCount[OpCodeNumber][code] += 1\n",
    "            else:\n",
    "                codeCount[OpCodeNumber][code] = 1\n",
    "    if threeOrMore and len(numberOfCode) > 2:\n",
    "        return numberOfCode\n",
    "    elif threeOrMore:\n",
    "        return False\n",
    "    return codeCount\n",
    "    "
   ]
  },
  {
   "cell_type": "code",
   "execution_count": 7,
   "metadata": {},
   "outputs": [],
   "source": [
    "data = getres.getInput(16)"
   ]
  },
  {
   "cell_type": "code",
   "execution_count": 8,
   "metadata": {},
   "outputs": [],
   "source": [
    "data = data.splitlines()"
   ]
  },
  {
   "cell_type": "code",
   "execution_count": 9,
   "metadata": {},
   "outputs": [],
   "source": [
    "chunkList = [[data[i] for i in range(s, s+4)] for s in range(0, 3143, 4)]"
   ]
  },
  {
   "cell_type": "code",
   "execution_count": 10,
   "metadata": {},
   "outputs": [],
   "source": [
    "chunkList = [[data[i] for i in range(s, s+4)] for s in range(0, 8, 4)]"
   ]
  },
  {
   "cell_type": "code",
   "execution_count": 11,
   "metadata": {},
   "outputs": [
    {
     "data": {
      "text/plain": [
       "2"
      ]
     },
     "execution_count": 11,
     "metadata": {},
     "output_type": "execute_result"
    }
   ],
   "source": [
    "len(chunkList)"
   ]
  },
  {
   "cell_type": "code",
   "execution_count": 12,
   "metadata": {},
   "outputs": [
    {
     "name": "stdout",
     "output_type": "stream",
     "text": [
      "For Code : addr and parameters : A = 3, B = 3, C= 0\n",
      "Code : addr ||| Before : [4, 3, 2, 2] || After : [0, 3, 2, 2] || Result : [4, 3, 2, 2]\n",
      "For Code : addi and parameters : A = 3, B = 3, C= 0\n",
      "Code : addi ||| Before : [5, 3, 2, 2] || After : [0, 3, 2, 2] || Result : [5, 3, 2, 2]\n",
      "For Code : mulr and parameters : A = 3, B = 3, C= 0\n",
      "Code : mulr ||| Before : [4, 3, 2, 2] || After : [0, 3, 2, 2] || Result : [4, 3, 2, 2]\n",
      "For Code : muli and parameters : A = 3, B = 3, C= 0\n",
      "Code : muli ||| Before : [6, 3, 2, 2] || After : [0, 3, 2, 2] || Result : [6, 3, 2, 2]\n",
      "For Code : banr and parameters : A = 3, B = 3, C= 0\n",
      "Code : banr ||| Before : [1, 3, 2, 2] || After : [0, 3, 2, 2] || Result : [1, 3, 2, 2]\n",
      "For Code : bani and parameters : A = 3, B = 3, C= 0\n",
      "Code : bani ||| Before : [1, 3, 2, 2] || After : [0, 3, 2, 2] || Result : [1, 3, 2, 2]\n",
      "For Code : borr and parameters : A = 3, B = 3, C= 0\n",
      "Code : borr ||| Before : [1, 3, 2, 2] || After : [0, 3, 2, 2] || Result : [1, 3, 2, 2]\n",
      "For Code : bori and parameters : A = 3, B = 3, C= 0\n",
      "Code : bori ||| Before : [1, 3, 2, 2] || After : [0, 3, 2, 2] || Result : [1, 3, 2, 2]\n",
      "For Code : setr and parameters : A = 3, B = 3, C= 0\n",
      "Code : setr ||| Before : [2, 3, 2, 2] || After : [0, 3, 2, 2] || Result : [2, 3, 2, 2]\n",
      "For Code : seti and parameters : A = 3, B = 3, C= 0\n",
      "Code : seti ||| Before : [3, 3, 2, 2] || After : [0, 3, 2, 2] || Result : [3, 3, 2, 2]\n",
      "For Code : gtir and parameters : A = 3, B = 3, C= 0\n",
      "Code : gtir ||| Before : [1, 3, 2, 2] || After : [0, 3, 2, 2] || Result : [1, 3, 2, 2]\n",
      "For Code : gtri and parameters : A = 3, B = 3, C= 0\n",
      "Code : gtri ||| Before : [0, 3, 2, 2] || After : [0, 3, 2, 2] || Result : [0, 3, 2, 2]\n",
      "For Code : gtrr and parameters : A = 3, B = 3, C= 0\n",
      "Code : gtrr ||| Before : [0, 3, 2, 2] || After : [0, 3, 2, 2] || Result : [0, 3, 2, 2]\n",
      "For Code : eqir and parameters : A = 3, B = 3, C= 0\n",
      "Code : eqir ||| Before : [0, 3, 2, 2] || After : [0, 3, 2, 2] || Result : [0, 3, 2, 2]\n",
      "For Code : eqri and parameters : A = 3, B = 3, C= 0\n",
      "Code : eqri ||| Before : [0, 3, 2, 2] || After : [0, 3, 2, 2] || Result : [0, 3, 2, 2]\n",
      "For Code : eqrr and parameters : A = 3, B = 3, C= 0\n",
      "Code : eqrr ||| Before : [1, 3, 2, 2] || After : [0, 3, 2, 2] || Result : [1, 3, 2, 2]\n",
      "For Code : addr and parameters : A = 0, B = 2, C= 0\n",
      "Code : addr ||| Before : [3, 1, 2, 3] || After : [0, 1, 2, 3] || Result : [3, 1, 2, 3]\n",
      "For Code : addi and parameters : A = 0, B = 2, C= 0\n",
      "Code : addi ||| Before : [3, 1, 2, 3] || After : [0, 1, 2, 3] || Result : [3, 1, 2, 3]\n",
      "For Code : mulr and parameters : A = 0, B = 2, C= 0\n",
      "Code : mulr ||| Before : [2, 1, 2, 3] || After : [0, 1, 2, 3] || Result : [2, 1, 2, 3]\n",
      "For Code : muli and parameters : A = 0, B = 2, C= 0\n",
      "Code : muli ||| Before : [2, 1, 2, 3] || After : [0, 1, 2, 3] || Result : [2, 1, 2, 3]\n",
      "For Code : banr and parameters : A = 0, B = 2, C= 0\n",
      "Code : banr ||| Before : [1, 1, 2, 3] || After : [0, 1, 2, 3] || Result : [1, 1, 2, 3]\n",
      "For Code : bani and parameters : A = 0, B = 2, C= 0\n",
      "Code : bani ||| Before : [1, 1, 2, 3] || After : [0, 1, 2, 3] || Result : [1, 1, 2, 3]\n",
      "For Code : borr and parameters : A = 0, B = 2, C= 0\n",
      "Code : borr ||| Before : [1, 1, 2, 3] || After : [0, 1, 2, 3] || Result : [1, 1, 2, 3]\n",
      "For Code : bori and parameters : A = 0, B = 2, C= 0\n",
      "Code : bori ||| Before : [1, 1, 2, 3] || After : [0, 1, 2, 3] || Result : [1, 1, 2, 3]\n",
      "For Code : setr and parameters : A = 0, B = 2, C= 0\n",
      "Code : setr ||| Before : [1, 1, 2, 3] || After : [0, 1, 2, 3] || Result : [1, 1, 2, 3]\n",
      "For Code : seti and parameters : A = 0, B = 2, C= 0\n",
      "Code : seti ||| Before : [0, 1, 2, 3] || After : [0, 1, 2, 3] || Result : [0, 1, 2, 3]\n",
      "For Code : gtir and parameters : A = 0, B = 2, C= 0\n",
      "Code : gtir ||| Before : [0, 1, 2, 3] || After : [0, 1, 2, 3] || Result : [0, 1, 2, 3]\n",
      "For Code : gtri and parameters : A = 0, B = 2, C= 0\n",
      "Code : gtri ||| Before : [0, 1, 2, 3] || After : [0, 1, 2, 3] || Result : [0, 1, 2, 3]\n",
      "For Code : gtrr and parameters : A = 0, B = 2, C= 0\n",
      "Code : gtrr ||| Before : [0, 1, 2, 3] || After : [0, 1, 2, 3] || Result : [0, 1, 2, 3]\n",
      "For Code : eqir and parameters : A = 0, B = 2, C= 0\n",
      "Code : eqir ||| Before : [0, 1, 2, 3] || After : [0, 1, 2, 3] || Result : [0, 1, 2, 3]\n",
      "For Code : eqri and parameters : A = 0, B = 2, C= 0\n",
      "Code : eqri ||| Before : [0, 1, 2, 3] || After : [0, 1, 2, 3] || Result : [0, 1, 2, 3]\n",
      "For Code : eqrr and parameters : A = 0, B = 2, C= 0\n",
      "Code : eqrr ||| Before : [0, 1, 2, 3] || After : [0, 1, 2, 3] || Result : [0, 1, 2, 3]\n"
     ]
    },
    {
     "data": {
      "text/plain": [
       "[['gtri', 'gtrr', 'eqir', 'eqri'],\n",
       " ['seti', 'gtir', 'gtri', 'gtrr', 'eqir', 'eqri', 'eqrr']]"
      ]
     },
     "execution_count": 12,
     "metadata": {},
     "output_type": "execute_result"
    }
   ],
   "source": [
    "[d for d in [testCode(chunk, codeList, codeCount, threeOrMore=True) for chunk in chunkList] if d]"
   ]
  },
  {
   "cell_type": "code",
   "execution_count": 13,
   "metadata": {},
   "outputs": [],
   "source": [
    "testchunk = ['Before: [3, 2, 1, 1]', '9 2 1 2', 'After:  [3, 2, 2, 1]', '']"
   ]
  },
  {
   "cell_type": "code",
   "execution_count": 14,
   "metadata": {},
   "outputs": [],
   "source": [
    "# testCode(testchunk, codeList, codeCount)"
   ]
  },
  {
   "cell_type": "code",
   "execution_count": 15,
   "metadata": {},
   "outputs": [
    {
     "name": "stdout",
     "output_type": "stream",
     "text": [
      "For Code : addr and parameters : A = 3, B = 3, C= 0\n",
      "Code : addr ||| Before : [4, 3, 2, 2] || After : [0, 3, 2, 2] || Result : [4, 3, 2, 2]\n",
      "For Code : addi and parameters : A = 3, B = 3, C= 0\n",
      "Code : addi ||| Before : [5, 3, 2, 2] || After : [0, 3, 2, 2] || Result : [5, 3, 2, 2]\n",
      "For Code : mulr and parameters : A = 3, B = 3, C= 0\n",
      "Code : mulr ||| Before : [4, 3, 2, 2] || After : [0, 3, 2, 2] || Result : [4, 3, 2, 2]\n",
      "For Code : muli and parameters : A = 3, B = 3, C= 0\n",
      "Code : muli ||| Before : [6, 3, 2, 2] || After : [0, 3, 2, 2] || Result : [6, 3, 2, 2]\n",
      "For Code : banr and parameters : A = 3, B = 3, C= 0\n",
      "Code : banr ||| Before : [1, 3, 2, 2] || After : [0, 3, 2, 2] || Result : [1, 3, 2, 2]\n",
      "For Code : bani and parameters : A = 3, B = 3, C= 0\n",
      "Code : bani ||| Before : [1, 3, 2, 2] || After : [0, 3, 2, 2] || Result : [1, 3, 2, 2]\n",
      "For Code : borr and parameters : A = 3, B = 3, C= 0\n",
      "Code : borr ||| Before : [1, 3, 2, 2] || After : [0, 3, 2, 2] || Result : [1, 3, 2, 2]\n",
      "For Code : bori and parameters : A = 3, B = 3, C= 0\n",
      "Code : bori ||| Before : [1, 3, 2, 2] || After : [0, 3, 2, 2] || Result : [1, 3, 2, 2]\n",
      "For Code : setr and parameters : A = 3, B = 3, C= 0\n",
      "Code : setr ||| Before : [2, 3, 2, 2] || After : [0, 3, 2, 2] || Result : [2, 3, 2, 2]\n",
      "For Code : seti and parameters : A = 3, B = 3, C= 0\n",
      "Code : seti ||| Before : [3, 3, 2, 2] || After : [0, 3, 2, 2] || Result : [3, 3, 2, 2]\n",
      "For Code : gtir and parameters : A = 3, B = 3, C= 0\n",
      "Code : gtir ||| Before : [1, 3, 2, 2] || After : [0, 3, 2, 2] || Result : [1, 3, 2, 2]\n",
      "For Code : gtri and parameters : A = 3, B = 3, C= 0\n",
      "Code : gtri ||| Before : [0, 3, 2, 2] || After : [0, 3, 2, 2] || Result : [0, 3, 2, 2]\n",
      "For Code : gtrr and parameters : A = 3, B = 3, C= 0\n",
      "Code : gtrr ||| Before : [0, 3, 2, 2] || After : [0, 3, 2, 2] || Result : [0, 3, 2, 2]\n",
      "For Code : eqir and parameters : A = 3, B = 3, C= 0\n",
      "Code : eqir ||| Before : [0, 3, 2, 2] || After : [0, 3, 2, 2] || Result : [0, 3, 2, 2]\n",
      "For Code : eqri and parameters : A = 3, B = 3, C= 0\n",
      "Code : eqri ||| Before : [0, 3, 2, 2] || After : [0, 3, 2, 2] || Result : [0, 3, 2, 2]\n",
      "For Code : eqrr and parameters : A = 3, B = 3, C= 0\n",
      "Code : eqrr ||| Before : [1, 3, 2, 2] || After : [0, 3, 2, 2] || Result : [1, 3, 2, 2]\n",
      "For Code : addr and parameters : A = 0, B = 2, C= 0\n",
      "Code : addr ||| Before : [3, 1, 2, 3] || After : [0, 1, 2, 3] || Result : [3, 1, 2, 3]\n",
      "For Code : addi and parameters : A = 0, B = 2, C= 0\n",
      "Code : addi ||| Before : [3, 1, 2, 3] || After : [0, 1, 2, 3] || Result : [3, 1, 2, 3]\n",
      "For Code : mulr and parameters : A = 0, B = 2, C= 0\n",
      "Code : mulr ||| Before : [2, 1, 2, 3] || After : [0, 1, 2, 3] || Result : [2, 1, 2, 3]\n",
      "For Code : muli and parameters : A = 0, B = 2, C= 0\n",
      "Code : muli ||| Before : [2, 1, 2, 3] || After : [0, 1, 2, 3] || Result : [2, 1, 2, 3]\n",
      "For Code : banr and parameters : A = 0, B = 2, C= 0\n",
      "Code : banr ||| Before : [1, 1, 2, 3] || After : [0, 1, 2, 3] || Result : [1, 1, 2, 3]\n",
      "For Code : bani and parameters : A = 0, B = 2, C= 0\n",
      "Code : bani ||| Before : [1, 1, 2, 3] || After : [0, 1, 2, 3] || Result : [1, 1, 2, 3]\n",
      "For Code : borr and parameters : A = 0, B = 2, C= 0\n",
      "Code : borr ||| Before : [1, 1, 2, 3] || After : [0, 1, 2, 3] || Result : [1, 1, 2, 3]\n",
      "For Code : bori and parameters : A = 0, B = 2, C= 0\n",
      "Code : bori ||| Before : [1, 1, 2, 3] || After : [0, 1, 2, 3] || Result : [1, 1, 2, 3]\n",
      "For Code : setr and parameters : A = 0, B = 2, C= 0\n",
      "Code : setr ||| Before : [1, 1, 2, 3] || After : [0, 1, 2, 3] || Result : [1, 1, 2, 3]\n",
      "For Code : seti and parameters : A = 0, B = 2, C= 0\n",
      "Code : seti ||| Before : [0, 1, 2, 3] || After : [0, 1, 2, 3] || Result : [0, 1, 2, 3]\n",
      "For Code : gtir and parameters : A = 0, B = 2, C= 0\n",
      "Code : gtir ||| Before : [0, 1, 2, 3] || After : [0, 1, 2, 3] || Result : [0, 1, 2, 3]\n",
      "For Code : gtri and parameters : A = 0, B = 2, C= 0\n",
      "Code : gtri ||| Before : [0, 1, 2, 3] || After : [0, 1, 2, 3] || Result : [0, 1, 2, 3]\n",
      "For Code : gtrr and parameters : A = 0, B = 2, C= 0\n",
      "Code : gtrr ||| Before : [0, 1, 2, 3] || After : [0, 1, 2, 3] || Result : [0, 1, 2, 3]\n",
      "For Code : eqir and parameters : A = 0, B = 2, C= 0\n",
      "Code : eqir ||| Before : [0, 1, 2, 3] || After : [0, 1, 2, 3] || Result : [0, 1, 2, 3]\n",
      "For Code : eqri and parameters : A = 0, B = 2, C= 0\n",
      "Code : eqri ||| Before : [0, 1, 2, 3] || After : [0, 1, 2, 3] || Result : [0, 1, 2, 3]\n",
      "For Code : eqrr and parameters : A = 0, B = 2, C= 0\n",
      "Code : eqrr ||| Before : [0, 1, 2, 3] || After : [0, 1, 2, 3] || Result : [0, 1, 2, 3]\n"
     ]
    }
   ],
   "source": [
    "for chunk in chunkList:\n",
    "    codeCount = testCode(chunk, codeList, codeCount)"
   ]
  },
  {
   "cell_type": "code",
   "execution_count": 16,
   "metadata": {},
   "outputs": [
    {
     "data": {
      "text/plain": [
       "defaultdict(dict,\n",
       "            {0: {'gtri': 2, 'gtrr': 2, 'eqir': 2, 'eqri': 2},\n",
       "             6: {'seti': 2,\n",
       "              'gtir': 2,\n",
       "              'gtri': 2,\n",
       "              'gtrr': 2,\n",
       "              'eqir': 2,\n",
       "              'eqri': 2,\n",
       "              'eqrr': 2}})"
      ]
     },
     "execution_count": 16,
     "metadata": {},
     "output_type": "execute_result"
    }
   ],
   "source": [
    "codeCount"
   ]
  },
  {
   "cell_type": "code",
   "execution_count": null,
   "metadata": {},
   "outputs": [],
   "source": []
  }
 ],
 "metadata": {
  "kernelspec": {
   "display_name": "Python 3",
   "language": "python",
   "name": "python3"
  },
  "language_info": {
   "codemirror_mode": {
    "name": "ipython",
    "version": 3
   },
   "file_extension": ".py",
   "mimetype": "text/x-python",
   "name": "python",
   "nbconvert_exporter": "python",
   "pygments_lexer": "ipython3",
   "version": "3.7.1"
  }
 },
 "nbformat": 4,
 "nbformat_minor": 2
}
