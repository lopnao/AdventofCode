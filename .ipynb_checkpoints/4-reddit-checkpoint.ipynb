{
 "cells": [
  {
   "cell_type": "code",
   "execution_count": 4,
   "metadata": {},
   "outputs": [
    {
     "name": "stdout",
     "output_type": "stream",
     "text": [
      "1871 49\n",
      "91679\n"
     ]
    }
   ],
   "source": [
    "from collections import defaultdict\n",
    "import dateutil\n",
    "\n",
    "lines = open('4.in').read().split('\\n')\n",
    "lines.sort()\n",
    "\n",
    "def parseTime(line):\n",
    " words = line.split()\n",
    " date, time = words[0][1:], words[1][:-1]\n",
    " return int(time.split(':')[1])\n",
    "\n",
    "C = defaultdict(int)\n",
    "CM = defaultdict(int)\n",
    "guard = None\n",
    "asleep = None\n",
    "for line in lines:\n",
    " if line:\n",
    "     time = parseTime(line)\n",
    "     if 'begins shift' in line:\n",
    "         guard = int(line.split()[3][1:])\n",
    "         asleep = None\n",
    "     elif 'falls asleep' in line:\n",
    "         asleep = time\n",
    "     elif 'wakes up' in line:\n",
    "         for t in range(asleep, time):\n",
    "             CM[(guard, t)] += 1\n",
    "             C[guard] += 1\n",
    "\n",
    "def argmax(d):\n",
    " best = None\n",
    " for k,v in d.items():\n",
    "     if best is None or v > d[best]:\n",
    "         best = k\n",
    " return best\n",
    "\n",
    "best_guard, best_min = argmax(CM)\n",
    "print(best_guard, best_min)\n",
    "\n",
    "print(best_guard * best_min)"
   ]
  },
  {
   "cell_type": "code",
   "execution_count": 5,
   "metadata": {},
   "outputs": [
    {
     "name": "stdout",
     "output_type": "stream",
     "text": [
      "part 1: 84636\n",
      "part 2: 91679\n"
     ]
    }
   ],
   "source": [
    "guards = defaultdict(list)\n",
    "times = defaultdict(int)\n",
    "\n",
    "for line in lines:\n",
    "    time, action = line.split('] ')\n",
    "\n",
    "    time = dateutil.parser.parse(time[1:])\n",
    "\n",
    "    if action.startswith('Guard'):\n",
    "        guard = int(action.split()[1][1:])\n",
    "    elif action == 'falls asleep':\n",
    "        start = time\n",
    "    elif action == 'wakes up':\n",
    "        end = time\n",
    "        guards[guard].append((start.minute, end.minute))\n",
    "        times[guard] += (end - start).seconds\n",
    "\n",
    "(guard, time) = max(times.items(), key=lambda i: i[1])\n",
    "(minute, count) = max([\n",
    "    (minute, sum(1 for start, end in guards[guard] if start <= minute < end))\n",
    "for minute in range(60)], key=lambda i: i[1])\n",
    "\n",
    "print('part 1:', guard * minute)\n",
    "\n",
    "(guard, minute, count) = max([\n",
    "    (guard, minute, sum(1 for start, end in guards[guard] if start <= minute < end))\n",
    "for minute in range(60) for guard in guards], key=lambda i: i[2])\n",
    "\n",
    "print('part 2:', guard * minute)"
   ]
  },
  {
   "cell_type": "code",
   "execution_count": null,
   "metadata": {},
   "outputs": [],
   "source": []
  }
 ],
 "metadata": {
  "kernelspec": {
   "display_name": "Python 3",
   "language": "python",
   "name": "python3"
  },
  "language_info": {
   "codemirror_mode": {
    "name": "ipython",
    "version": 3
   },
   "file_extension": ".py",
   "mimetype": "text/x-python",
   "name": "python",
   "nbconvert_exporter": "python",
   "pygments_lexer": "ipython3",
   "version": "3.6.6"
  }
 },
 "nbformat": 4,
 "nbformat_minor": 2
}
