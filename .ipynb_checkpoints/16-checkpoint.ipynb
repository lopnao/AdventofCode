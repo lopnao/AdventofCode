{
 "cells": [
  {
   "cell_type": "code",
   "execution_count": 1,
   "metadata": {},
   "outputs": [],
   "source": [
    "import re\n",
    "import getres\n",
    "import collections"
   ]
  },
  {
   "cell_type": "markdown",
   "metadata": {},
   "source": [
    "## Methods"
   ]
  },
  {
   "cell_type": "code",
   "execution_count": 2,
   "metadata": {},
   "outputs": [],
   "source": [
    "registers = [0, 0, 0, 0]"
   ]
  },
  {
   "cell_type": "code",
   "execution_count": 3,
   "metadata": {},
   "outputs": [],
   "source": [
    "codeList = ['addr', 'addi', 'mulr', 'muli', 'banr', 'bani', 'borr', 'bori', 'setr', 'seti', \n",
    "            'gtir', 'gtri', 'gtrr', 'eqir', 'eqri', 'eqrr']"
   ]
  },
  {
   "cell_type": "code",
   "execution_count": 4,
   "metadata": {},
   "outputs": [],
   "source": [
    "codeCount = collections.defaultdict(dict)"
   ]
  },
  {
   "cell_type": "code",
   "execution_count": 5,
   "metadata": {},
   "outputs": [],
   "source": [
    "def procOpcode(code, A, B, registerCode, registers):\n",
    "    if code == 'addr':\n",
    "        registers[registerCode] = registers[A] + registers[B]\n",
    "        return registers\n",
    "    elif code == 'addi':\n",
    "        registers[registerCode] = registers[A] + B\n",
    "        return registers\n",
    "    elif code == 'mulr':\n",
    "        registers[registerCode] = registers[A] * registers[B]\n",
    "        return registers\n",
    "    elif code == 'muli':\n",
    "        registers[registerCode] = registers[A] * B\n",
    "        return registers\n",
    "    elif code == 'banr':\n",
    "        if registers[A] and registers[B]:\n",
    "            registers[registerCode] = 1\n",
    "        else:\n",
    "            registers[registerCode] = 0\n",
    "        return registers\n",
    "    elif code == 'bani':\n",
    "        if registers[A] and B:\n",
    "            registers[registerCode] = 1\n",
    "        else:\n",
    "            registers[registerCode] = 0\n",
    "        return registers\n",
    "    elif code == 'borr':\n",
    "        if registers[A] or registers[B]:\n",
    "            registers[registerCode] = 1\n",
    "        else:\n",
    "            registers[registerCode] = 0\n",
    "        return registers\n",
    "    elif code == 'bori':\n",
    "        if registers[A] or B:\n",
    "            registers[registerCode] = 1\n",
    "        else:\n",
    "            registers[registerCode] = 0\n",
    "        return registers\n",
    "    elif code == 'setr':\n",
    "        registers[registerCode] = registers[A]\n",
    "        return registers\n",
    "    elif code == 'seti':\n",
    "        registers[registerCode] = A\n",
    "        return registers\n",
    "    elif code == 'gtir':\n",
    "        if A > registers[B]:\n",
    "            registers[registerCode] = 1\n",
    "        else:\n",
    "            registers[registerCode] = 0\n",
    "        return registers\n",
    "    elif code == 'gtri':\n",
    "        if registers[A] > B:\n",
    "            registers[registerCode] = 1\n",
    "        else:\n",
    "            registers[registerCode] = 0\n",
    "        return registers\n",
    "    elif code == 'gtrr':\n",
    "        if registers[A] > registers[B]:\n",
    "            registers[registerCode] = 1\n",
    "        else:\n",
    "            registers[registerCode] = 0\n",
    "        return registers\n",
    "    elif code == 'eqir':\n",
    "        if A == registers[B]:\n",
    "            registers[registerCode] = 1\n",
    "        else:\n",
    "            registers[registerCode] = 0\n",
    "        return registers\n",
    "    elif code == 'eqri':\n",
    "        if registers[A] == B:\n",
    "            registers[registerCode] = 1\n",
    "        else:\n",
    "            registers[registerCode] = 0\n",
    "        return registers\n",
    "    elif code == 'eqrr':\n",
    "        if registers[A] == registers[B]:\n",
    "            registers[registerCode] = 1\n",
    "        else:\n",
    "            registers[registerCode] = 0\n",
    "        return registers\n",
    "    else:print('Wrong Code.')"
   ]
  },
  {
   "cell_type": "code",
   "execution_count": 16,
   "metadata": {},
   "outputs": [],
   "source": [
    "def testCode(chunk, codeList, codeCount, threeOrMore=False):\n",
    "    if threeOrMore:\n",
    "        numberOfCode = []\n",
    "    for code in codeList:\n",
    "        bA, bB, bC, bD = re.search('Before: \\[(\\d+), (\\d+), (\\d+), (\\d+)]', chunk[0]).groups()\n",
    "        bA, bB, bC, bD = int(bA), int(bB), int(bC), int(bD)\n",
    "        beforeRegisters = [bA, bB, bC, bD]\n",
    "        OpCodeNumber, A, B, C = re.search('(\\d+) (\\d+) (\\d+) (\\d+)', chunk[1]).groups()\n",
    "        OpCodeNumber, A, B, C = int(OpCodeNumber), int(A), int(B), int(C)\n",
    "        aA, aB, aC, aD = re.search('After:  \\[(\\d+), (\\d+), (\\d+), (\\d+)]', \n",
    "                                                                  chunk[2]).groups()\n",
    "        aA, aB, aC, aD = int(aA), int(aB), int(aC), int(aD)\n",
    "        afterRegisters = [aA, aB, aC, aD]\n",
    "        if afterRegisters == procOpcode(code, A, B, C, beforeRegisters):\n",
    "            if threeOrMore:\n",
    "                numberOfCode.append(code)\n",
    "            if code in codeCount[OpCodeNumber].keys():\n",
    "                codeCount[OpCodeNumber][code] += 1\n",
    "            else:\n",
    "                codeCount[OpCodeNumber][code] = 1\n",
    "    if threeOrMore and len(numberOfCode) > 2:return True\n",
    "    return codeCount\n",
    "    "
   ]
  },
  {
   "cell_type": "code",
   "execution_count": 7,
   "metadata": {},
   "outputs": [],
   "source": [
    "data = getres.getInput(16)"
   ]
  },
  {
   "cell_type": "code",
   "execution_count": 8,
   "metadata": {},
   "outputs": [],
   "source": [
    "data = data.splitlines()"
   ]
  },
  {
   "cell_type": "code",
   "execution_count": 9,
   "metadata": {},
   "outputs": [],
   "source": [
    "chunkList = [[data[i] for i in range(s, s+4)] for s in range(0, 3143, 4)]"
   ]
  },
  {
   "cell_type": "code",
   "execution_count": 17,
   "metadata": {},
   "outputs": [],
   "source": [
    "chunkList = [[data[i] for i in range(s, s+4)] for s in range(0, 80, 4)]"
   ]
  },
  {
   "cell_type": "code",
   "execution_count": 18,
   "metadata": {},
   "outputs": [
    {
     "data": {
      "text/plain": [
       "[True,\n",
       " True,\n",
       " True,\n",
       " True,\n",
       " True,\n",
       " True,\n",
       " True,\n",
       " True,\n",
       " True,\n",
       " True,\n",
       " True,\n",
       " True,\n",
       " True,\n",
       " True,\n",
       " True,\n",
       " True,\n",
       " True,\n",
       " True,\n",
       " True,\n",
       " True]"
      ]
     },
     "execution_count": 18,
     "metadata": {},
     "output_type": "execute_result"
    }
   ],
   "source": [
    "[testCode(chunk, codeList, codeCount, threeOrMore=True) for chunk in chunkList]"
   ]
  },
  {
   "cell_type": "code",
   "execution_count": 11,
   "metadata": {},
   "outputs": [],
   "source": [
    "testchunk = ['Before: [3, 2, 1, 1]', '9 2 1 2', 'After:  [3, 2, 2, 1]', '']"
   ]
  },
  {
   "cell_type": "code",
   "execution_count": 12,
   "metadata": {},
   "outputs": [],
   "source": [
    "# testCode(testchunk, codeList, codeCount)"
   ]
  },
  {
   "cell_type": "code",
   "execution_count": 13,
   "metadata": {},
   "outputs": [],
   "source": [
    "for chunk in chunkList:\n",
    "    codeCount = testCode(chunk, codeList, codeCount)"
   ]
  },
  {
   "cell_type": "code",
   "execution_count": 14,
   "metadata": {},
   "outputs": [
    {
     "data": {
      "text/plain": [
       "defaultdict(dict,\n",
       "            {0: {'gtri': 42, 'gtrr': 42, 'eqir': 42, 'eqri': 42},\n",
       "             6: {'seti': 42,\n",
       "              'gtir': 42,\n",
       "              'gtri': 42,\n",
       "              'gtrr': 42,\n",
       "              'eqir': 42,\n",
       "              'eqri': 42,\n",
       "              'eqrr': 42},\n",
       "             11: {'addr': 52, 'addi': 52, 'seti': 52},\n",
       "             9: {'addi': 49,\n",
       "              'mulr': 49,\n",
       "              'banr': 49,\n",
       "              'borr': 49,\n",
       "              'bori': 49,\n",
       "              'setr': 49,\n",
       "              'seti': 49,\n",
       "              'gtri': 49,\n",
       "              'eqir': 49,\n",
       "              'eqrr': 49},\n",
       "             5: {'addi': 49, 'mulr': 49, 'seti': 49},\n",
       "             7: {'gtir': 58,\n",
       "              'gtri': 58,\n",
       "              'gtrr': 58,\n",
       "              'eqir': 58,\n",
       "              'eqri': 58,\n",
       "              'eqrr': 58},\n",
       "             8: {'addr': 49,\n",
       "              'addi': 49,\n",
       "              'mulr': 49,\n",
       "              'muli': 49,\n",
       "              'banr': 49,\n",
       "              'bani': 49,\n",
       "              'borr': 49,\n",
       "              'bori': 49,\n",
       "              'setr': 49,\n",
       "              'seti': 49,\n",
       "              'gtir': 49,\n",
       "              'gtri': 49,\n",
       "              'gtrr': 49},\n",
       "             3: {'banr': 44, 'bani': 44, 'borr': 44, 'bori': 44, 'gtrr': 44},\n",
       "             4: {'gtir': 53,\n",
       "              'gtri': 53,\n",
       "              'gtrr': 53,\n",
       "              'eqir': 53,\n",
       "              'eqri': 53,\n",
       "              'eqrr': 53},\n",
       "             13: {'mulr': 58,\n",
       "              'banr': 58,\n",
       "              'bani': 58,\n",
       "              'borr': 58,\n",
       "              'bori': 58,\n",
       "              'setr': 58,\n",
       "              'seti': 58,\n",
       "              'eqir': 58,\n",
       "              'eqrr': 58},\n",
       "             2: {'banr': 47,\n",
       "              'bani': 47,\n",
       "              'borr': 47,\n",
       "              'bori': 47,\n",
       "              'gtri': 47,\n",
       "              'gtrr': 47},\n",
       "             12: {'gtir': 51,\n",
       "              'gtri': 51,\n",
       "              'gtrr': 51,\n",
       "              'eqir': 51,\n",
       "              'eqri': 51,\n",
       "              'eqrr': 51},\n",
       "             14: {'banr': 19,\n",
       "              'borr': 31,\n",
       "              'bori': 31,\n",
       "              'gtri': 47,\n",
       "              'gtrr': 31,\n",
       "              'eqir': 47,\n",
       "              'bani': 21,\n",
       "              'eqrr': 16},\n",
       "             1: {'mulr': 55,\n",
       "              'banr': 55,\n",
       "              'seti': 55,\n",
       "              'gtir': 55,\n",
       "              'gtri': 55,\n",
       "              'eqri': 55,\n",
       "              'eqrr': 55},\n",
       "             10: {'banr': 48,\n",
       "              'bani': 48,\n",
       "              'borr': 48,\n",
       "              'bori': 48,\n",
       "              'setr': 48,\n",
       "              'gtir': 48},\n",
       "             15: {'banr': 42,\n",
       "              'bani': 14,\n",
       "              'borr': 42,\n",
       "              'bori': 42,\n",
       "              'gtri': 42,\n",
       "              'eqrr': 42}})"
      ]
     },
     "execution_count": 14,
     "metadata": {},
     "output_type": "execute_result"
    }
   ],
   "source": [
    "codeCount"
   ]
  },
  {
   "cell_type": "code",
   "execution_count": null,
   "metadata": {},
   "outputs": [],
   "source": []
  }
 ],
 "metadata": {
  "kernelspec": {
   "display_name": "Python 3",
   "language": "python",
   "name": "python3"
  },
  "language_info": {
   "codemirror_mode": {
    "name": "ipython",
    "version": 3
   },
   "file_extension": ".py",
   "mimetype": "text/x-python",
   "name": "python",
   "nbconvert_exporter": "python",
   "pygments_lexer": "ipython3",
   "version": "3.7.1"
  }
 },
 "nbformat": 4,
 "nbformat_minor": 2
}
