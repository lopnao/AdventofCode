{
 "cells": [
  {
   "cell_type": "code",
   "execution_count": 1,
   "metadata": {},
   "outputs": [],
   "source": [
    "import getres\n",
    "import re\n",
    "from collections import defaultdict"
   ]
  },
  {
   "cell_type": "markdown",
   "metadata": {},
   "source": [
    "## Methods"
   ]
  },
  {
   "cell_type": "code",
   "execution_count": 2,
   "metadata": {},
   "outputs": [],
   "source": [
    "def addingMarble(circle, currentMarble, marbleToAdd, currentPlayer, scores):\n",
    "    currentMarbleIndex = [i for i, v in enumerate(circle) if v == currentMarble][0]\n",
    "    if marbleToAdd % 23 == 0 and marbleToAdd:\n",
    "        if scores[currentPlayer]:scores[currentPlayer] += marbleToAdd\n",
    "        else:scores[currentPlayer] = marbleToAdd\n",
    "        removedMarble = circle[currentMarbleIndex-7]\n",
    "        scores[currentPlayer] += removedMarble\n",
    "        circle = circle[:currentMarbleIndex-7] + circle[currentMarbleIndex-6:]\n",
    "        currentMarble = circle[currentMarbleIndex-7]\n",
    "    elif circle == [0]:\n",
    "        circle = [0, 1]\n",
    "        currentMarble = 1\n",
    "    else:\n",
    "        toInsert = (currentMarbleIndex+2) % len(circle)\n",
    "        if toInsert == 0:circle.append(marbleToAdd)  \n",
    "        else:circle.insert(toInsert, marbleToAdd)\n",
    "        currentMarble = marbleToAdd\n",
    "    return circle, currentMarble, scores"
   ]
  },
  {
   "cell_type": "code",
   "execution_count": 3,
   "metadata": {},
   "outputs": [],
   "source": [
    "def getData(data):\n",
    "    mo = re.search('(\\d+).+?(\\d+)', data)\n",
    "    playersNumber = int(mo.group(1))\n",
    "    marblesNumber = int(mo.group(2))\n",
    "    scores = defaultdict(dict)\n",
    "    circle = [0]\n",
    "    currentMarble = 0\n",
    "    for marble, l in enumerate(range(marblesNumber), start=1):\n",
    "        currentPlayer = marble % playersNumber\n",
    "        circle, currentMarble, scores = addingMarble(circle=circle, currentMarble=currentMarble, \n",
    "                     marbleToAdd=marble, currentPlayer=currentPlayer, scores=scores)\n",
    "        print(currentPlayer, circle)\n",
    "    return scores"
   ]
  },
  {
   "cell_type": "code",
   "execution_count": null,
   "metadata": {},
   "outputs": [],
   "source": []
  },
  {
   "cell_type": "markdown",
   "metadata": {},
   "source": [
    "## Results"
   ]
  },
  {
   "cell_type": "code",
   "execution_count": null,
   "metadata": {},
   "outputs": [],
   "source": []
  },
  {
   "cell_type": "code",
   "execution_count": 4,
   "metadata": {},
   "outputs": [],
   "source": [
    "data = getres.getInput(9)"
   ]
  },
  {
   "cell_type": "code",
   "execution_count": 5,
   "metadata": {},
   "outputs": [
    {
     "data": {
      "text/plain": [
       "'459 players; last marble is worth 72103 points'"
      ]
     },
     "execution_count": 5,
     "metadata": {},
     "output_type": "execute_result"
    }
   ],
   "source": [
    "data"
   ]
  },
  {
   "cell_type": "code",
   "execution_count": 6,
   "metadata": {},
   "outputs": [],
   "source": [
    "test = '9 players; last marble is worth 25 points'"
   ]
  },
  {
   "cell_type": "code",
   "execution_count": 7,
   "metadata": {},
   "outputs": [
    {
     "name": "stdout",
     "output_type": "stream",
     "text": [
      "1 [0, 1]\n",
      "2 [0, 2, 1]\n",
      "3 [0, 2, 1, 3]\n",
      "4 [0, 4, 2, 1, 3]\n",
      "5 [0, 4, 2, 5, 1, 3]\n",
      "6 [0, 4, 2, 5, 1, 6, 3]\n",
      "7 [0, 4, 2, 5, 1, 6, 3, 7]\n",
      "8 [0, 8, 4, 2, 5, 1, 6, 3, 7]\n",
      "0 [0, 8, 4, 9, 2, 5, 1, 6, 3, 7]\n",
      "1 [0, 8, 4, 9, 2, 10, 5, 1, 6, 3, 7]\n",
      "2 [0, 8, 4, 9, 2, 10, 5, 11, 1, 6, 3, 7]\n",
      "3 [0, 8, 4, 9, 2, 10, 5, 11, 1, 12, 6, 3, 7]\n",
      "4 [0, 8, 4, 9, 2, 10, 5, 11, 1, 12, 6, 13, 3, 7]\n",
      "5 [0, 8, 4, 9, 2, 10, 5, 11, 1, 12, 6, 13, 3, 14, 7]\n",
      "6 [0, 8, 4, 9, 2, 10, 5, 11, 1, 12, 6, 13, 3, 14, 7, 15]\n",
      "7 [0, 16, 8, 4, 9, 2, 10, 5, 11, 1, 12, 6, 13, 3, 14, 7, 15]\n",
      "8 [0, 16, 8, 17, 4, 9, 2, 10, 5, 11, 1, 12, 6, 13, 3, 14, 7, 15]\n",
      "0 [0, 16, 8, 17, 4, 18, 9, 2, 10, 5, 11, 1, 12, 6, 13, 3, 14, 7, 15]\n",
      "1 [0, 16, 8, 17, 4, 18, 9, 19, 2, 10, 5, 11, 1, 12, 6, 13, 3, 14, 7, 15]\n",
      "2 [0, 16, 8, 17, 4, 18, 9, 19, 2, 20, 10, 5, 11, 1, 12, 6, 13, 3, 14, 7, 15]\n",
      "3 [0, 16, 8, 17, 4, 18, 9, 19, 2, 20, 10, 21, 5, 11, 1, 12, 6, 13, 3, 14, 7, 15]\n",
      "4 [0, 16, 8, 17, 4, 18, 9, 19, 2, 20, 10, 21, 5, 22, 11, 1, 12, 6, 13, 3, 14, 7, 15]\n",
      "5 [0, 16, 8, 17, 4, 18, 19, 2, 20, 10, 21, 5, 22, 11, 1, 12, 6, 13, 3, 14, 7, 15]\n",
      "6 [0, 16, 8, 17, 4, 18, 19, 2, 24, 20, 10, 21, 5, 22, 11, 1, 12, 6, 13, 3, 14, 7, 15]\n",
      "7 [0, 16, 8, 17, 4, 18, 19, 2, 24, 20, 25, 10, 21, 5, 22, 11, 1, 12, 6, 13, 3, 14, 7, 15]\n"
     ]
    },
    {
     "data": {
      "text/plain": [
       "defaultdict(dict, {5: 32})"
      ]
     },
     "execution_count": 7,
     "metadata": {},
     "output_type": "execute_result"
    }
   ],
   "source": [
    "getData(test)"
   ]
  },
  {
   "cell_type": "code",
   "execution_count": null,
   "metadata": {},
   "outputs": [],
   "source": []
  },
  {
   "cell_type": "code",
   "execution_count": null,
   "metadata": {},
   "outputs": [],
   "source": []
  },
  {
   "cell_type": "code",
   "execution_count": null,
   "metadata": {},
   "outputs": [],
   "source": []
  }
 ],
 "metadata": {
  "kernelspec": {
   "display_name": "Python 3",
   "language": "python",
   "name": "python3"
  },
  "language_info": {
   "codemirror_mode": {
    "name": "ipython",
    "version": 3
   },
   "file_extension": ".py",
   "mimetype": "text/x-python",
   "name": "python",
   "nbconvert_exporter": "python",
   "pygments_lexer": "ipython3",
   "version": "3.7.1"
  }
 },
 "nbformat": 4,
 "nbformat_minor": 2
}
