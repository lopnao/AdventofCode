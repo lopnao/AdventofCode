{
 "cells": [
  {
   "cell_type": "code",
   "execution_count": null,
   "metadata": {},
   "outputs": [],
   "source": []
  },
  {
   "cell_type": "code",
   "execution_count": 5,
   "metadata": {},
   "outputs": [
    {
     "name": "stdout",
     "output_type": "stream",
     "text": [
      "1228161224\n"
     ]
    }
   ],
   "source": [
    "value = 430971\n",
    "digits = [int(digit) for digit in str(value)]\n",
    "scores = [4,3,0,9,7,1]\n",
    "elf1, elf2 = 0, 1\n",
    "\n",
    "part1 = True # change to False for part 2\n",
    "\n",
    "while (\n",
    "    len(scores) < value + 10\n",
    ") if part1 else (\n",
    "    scores[-len(digits):] != digits and scores[-len(digits)-1:-1] != digits\n",
    "):\n",
    "    total = scores[elf1] + scores[elf2]\n",
    "    scores.extend(divmod(total, 10) if total >= 10 else (total,))\n",
    "\n",
    "    elf1 = (elf1 + 1 + scores[elf1]) % len(scores)\n",
    "    elf2 = (elf2 + 1 + scores[elf2]) % len(scores)\n",
    "\n",
    "print(\n",
    "    ''.join(str(score) for score in scores[value:value+10])\n",
    "if part1 else\n",
    "    len(scores) - len(digits) - (0 if scores[-len(digits):] == digits else 1)\n",
    ")"
   ]
  },
  {
   "cell_type": "code",
   "execution_count": 7,
   "metadata": {},
   "outputs": [
    {
     "name": "stdout",
     "output_type": "stream",
     "text": [
      "5715102879\n",
      "20225706\n"
     ]
    }
   ],
   "source": [
    "value = '430971'\n",
    "digits = [int(digit) for digit in str(value)]\n",
    "\n",
    "class Scoreboard(list):\n",
    "    def __init__(self):\n",
    "        super().__init__([3,7])\n",
    "        self.elf1 = 0\n",
    "        self.elf2 = 1\n",
    "    \n",
    "    def __next__(self):\n",
    "        total = self[self.elf1] + self[self.elf2]\n",
    "        self.extend(divmod(total, 10) if total >= 10 else (total,))\n",
    "        self.elf1 = (self.elf1 + 1 + self[self.elf1]) % len(self)\n",
    "        self.elf2 = (self.elf2 + 1 + self[self.elf2]) % len(self)\n",
    "      \n",
    "#Part 1\n",
    "scores = Scoreboard()\n",
    "value = int(value)\n",
    "while len(scores) < value + 10:\n",
    "    next(scores)\n",
    "    \n",
    "print(''.join(str(score) for score in scores[value:value+10]))\n",
    "\n",
    "#Part2\n",
    "scores = Scoreboard()\n",
    "while scores[-len(digits):] != digits and scores[-len(digits)-1:-1] != digits:\n",
    "    next(scores)\n",
    "\n",
    "print(len(scores) - len(digits) - (0 if scores[-len(digits):] == digits else 1))"
   ]
  },
  {
   "cell_type": "code",
   "execution_count": null,
   "metadata": {},
   "outputs": [],
   "source": []
  }
 ],
 "metadata": {
  "kernelspec": {
   "display_name": "Python 3",
   "language": "python",
   "name": "python3"
  },
  "language_info": {
   "codemirror_mode": {
    "name": "ipython",
    "version": 3
   },
   "file_extension": ".py",
   "mimetype": "text/x-python",
   "name": "python",
   "nbconvert_exporter": "python",
   "pygments_lexer": "ipython3",
   "version": "3.7.1"
  }
 },
 "nbformat": 4,
 "nbformat_minor": 2
}
