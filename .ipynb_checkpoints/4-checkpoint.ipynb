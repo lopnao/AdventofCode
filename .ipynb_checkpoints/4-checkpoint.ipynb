{
 "cells": [
  {
   "cell_type": "code",
   "execution_count": 1,
   "metadata": {},
   "outputs": [],
   "source": [
    "import re\n",
    "import datetime"
   ]
  },
  {
   "cell_type": "code",
   "execution_count": null,
   "metadata": {},
   "outputs": [],
   "source": []
  },
  {
   "cell_type": "code",
   "execution_count": 2,
   "metadata": {},
   "outputs": [],
   "source": [
    "def sortingData(string:str):\n",
    "    ret = []\n",
    "    res = string.splitlines()\n",
    "    for string in res:\n",
    "        mo = re.search('\\[(.+) \\d\\d:(\\d\\d)] (.+)', string)\n",
    "        date = datetime.datetime.strptime(mo.group(1), '%Y-%m-%d')\n",
    "        minutes = mo.group(2)\n",
    "        action = mo.group(3)\n",
    "        ret.append((date, minutes, action))\n",
    "    return ret  "
   ]
  },
  {
   "cell_type": "code",
   "execution_count": 3,
   "metadata": {},
   "outputs": [
    {
     "data": {
      "text/plain": [
       "datetime.datetime(1518, 9, 18, 0, 0)"
      ]
     },
     "execution_count": 3,
     "metadata": {},
     "output_type": "execute_result"
    }
   ],
   "source": [
    "datetime.datetime.strptime('1518-09-18', '%Y-%m-%d')"
   ]
  },
  {
   "cell_type": "code",
   "execution_count": 4,
   "metadata": {},
   "outputs": [],
   "source": [
    "test = '[1518-09-18 00:43] wakes up'"
   ]
  },
  {
   "cell_type": "code",
   "execution_count": 5,
   "metadata": {},
   "outputs": [],
   "source": [
    "mo = re.search('(\\[.+]) (.+)', test)"
   ]
  },
  {
   "cell_type": "code",
   "execution_count": 6,
   "metadata": {},
   "outputs": [
    {
     "data": {
      "text/plain": [
       "'wakes up'"
      ]
     },
     "execution_count": 6,
     "metadata": {},
     "output_type": "execute_result"
    }
   ],
   "source": [
    "mo.group(2)"
   ]
  },
  {
   "cell_type": "code",
   "execution_count": null,
   "metadata": {},
   "outputs": [],
   "source": []
  },
  {
   "cell_type": "code",
   "execution_count": 7,
   "metadata": {},
   "outputs": [],
   "source": [
    "data = '''[1518-11-13 00:04] Guard #2411 begins shift\n",
    "[1518-09-18 00:43] wakes up\n",
    "[1518-08-29 23:57] Guard #1871 begins shift\n",
    "[1518-03-13 00:56] wakes up\n",
    "[1518-11-13 23:56] Guard #947 begins shift\n",
    "[1518-05-31 00:54] falls asleep\n",
    "[1518-11-10 00:40] falls asleep\n",
    "[1518-05-16 00:39] falls asleep\n",
    "[1518-03-05 00:01] Guard #967 begins shift\n",
    "[1518-09-14 00:04] Guard #631 begins shift'''"
   ]
  },
  {
   "cell_type": "code",
   "execution_count": 8,
   "metadata": {},
   "outputs": [
    {
     "data": {
      "text/plain": [
       "[(datetime.datetime(1518, 11, 13, 0, 0), '04', 'Guard #2411 begins shift'),\n",
       " (datetime.datetime(1518, 9, 18, 0, 0), '43', 'wakes up'),\n",
       " (datetime.datetime(1518, 8, 29, 0, 0), '57', 'Guard #1871 begins shift'),\n",
       " (datetime.datetime(1518, 3, 13, 0, 0), '56', 'wakes up'),\n",
       " (datetime.datetime(1518, 11, 13, 0, 0), '56', 'Guard #947 begins shift'),\n",
       " (datetime.datetime(1518, 5, 31, 0, 0), '54', 'falls asleep'),\n",
       " (datetime.datetime(1518, 11, 10, 0, 0), '40', 'falls asleep'),\n",
       " (datetime.datetime(1518, 5, 16, 0, 0), '39', 'falls asleep'),\n",
       " (datetime.datetime(1518, 3, 5, 0, 0), '01', 'Guard #967 begins shift'),\n",
       " (datetime.datetime(1518, 9, 14, 0, 0), '04', 'Guard #631 begins shift')]"
      ]
     },
     "execution_count": 8,
     "metadata": {},
     "output_type": "execute_result"
    }
   ],
   "source": [
    "sortingData(data)"
   ]
  },
  {
   "cell_type": "code",
   "execution_count": null,
   "metadata": {},
   "outputs": [],
   "source": []
  },
  {
   "cell_type": "code",
   "execution_count": null,
   "metadata": {},
   "outputs": [],
   "source": []
  },
  {
   "cell_type": "code",
   "execution_count": null,
   "metadata": {},
   "outputs": [],
   "source": []
  }
 ],
 "metadata": {
  "kernelspec": {
   "display_name": "Python 3",
   "language": "python",
   "name": "python3"
  },
  "language_info": {
   "codemirror_mode": {
    "name": "ipython",
    "version": 3
   },
   "file_extension": ".py",
   "mimetype": "text/x-python",
   "name": "python",
   "nbconvert_exporter": "python",
   "pygments_lexer": "ipython3",
   "version": "3.6.6"
  }
 },
 "nbformat": 4,
 "nbformat_minor": 2
}
