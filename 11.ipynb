{
 "cells": [
  {
   "cell_type": "code",
   "execution_count": 1,
   "metadata": {},
   "outputs": [],
   "source": [
    "import getres"
   ]
  },
  {
   "cell_type": "code",
   "execution_count": 2,
   "metadata": {},
   "outputs": [],
   "source": [
    "data = 3613"
   ]
  },
  {
   "cell_type": "code",
   "execution_count": 3,
   "metadata": {},
   "outputs": [],
   "source": [
    "class FuelCell(object):\n",
    "    def __init__(self, posX, posY, gridSN):\n",
    "        self.posX = posX\n",
    "        self.posY = posY\n",
    "        self.gridSN = gridSN\n",
    "        self.PL = self.procIt()\n",
    "        \n",
    "    def procIt(self):\n",
    "        rackID = self.posX + 10\n",
    "        PL = (rackID * self.posY) + self.gridSN\n",
    "        PL *= rackID\n",
    "        PL = int(str(PL)[-3])\n",
    "        PL -= 5\n",
    "        return PL"
   ]
  },
  {
   "cell_type": "code",
   "execution_count": 4,
   "metadata": {},
   "outputs": [],
   "source": [
    "def getallFuelCells(data):\n",
    "    return {(posX, posY): FuelCell(posX, posY, gridSN=data).PL for posX in range(1, 301) for posY in range(1, 301)}"
   ]
  },
  {
   "cell_type": "code",
   "execution_count": 5,
   "metadata": {},
   "outputs": [],
   "source": [
    "def getSquare(topLeftCoords, grid, size):\n",
    "    posX = topLeftCoords[0]\n",
    "    posY = topLeftCoords[1]\n",
    "    return sum((grid[(x, y)] for y in range(posY, posY + size) for x in range(posX, posX + size)))"
   ]
  },
  {
   "cell_type": "code",
   "execution_count": 6,
   "metadata": {},
   "outputs": [],
   "source": [
    "def getSquares(data, size):\n",
    "    grid = getallFuelCells(data)\n",
    "    if size == 300:return {(1, 1): getSquare((1, 1), grid, 300)}\n",
    "    return {(x, y): getSquare((x, y), grid, size) for y in range(1, 301 - size) for x in range(1, 301 - size)}"
   ]
  },
  {
   "cell_type": "code",
   "execution_count": 7,
   "metadata": {},
   "outputs": [],
   "source": [
    "def procData(data, size):\n",
    "    squareGrid = getSquares(data, size)\n",
    "    return max(((squareGrid[s], s) for s in squareGrid))"
   ]
  },
  {
   "cell_type": "code",
   "execution_count": 11,
   "metadata": {},
   "outputs": [],
   "source": [
    "def procAllSize(data):\n",
    "    return max((procData(data, size), size) for size in range(1, 300))"
   ]
  },
  {
   "cell_type": "code",
   "execution_count": null,
   "metadata": {},
   "outputs": [],
   "source": []
  },
  {
   "cell_type": "code",
   "execution_count": null,
   "metadata": {},
   "outputs": [],
   "source": []
  },
  {
   "cell_type": "code",
   "execution_count": 12,
   "metadata": {},
   "outputs": [
    {
     "data": {
      "text/plain": [
       "(30, (20, 54))"
      ]
     },
     "execution_count": 12,
     "metadata": {},
     "output_type": "execute_result"
    }
   ],
   "source": [
    "procData(data, 3)"
   ]
  },
  {
   "cell_type": "code",
   "execution_count": null,
   "metadata": {},
   "outputs": [],
   "source": [
    "procAllSize(data)"
   ]
  },
  {
   "cell_type": "code",
   "execution_count": null,
   "metadata": {},
   "outputs": [],
   "source": []
  }
 ],
 "metadata": {
  "kernelspec": {
   "display_name": "Python 3",
   "language": "python",
   "name": "python3"
  },
  "language_info": {
   "codemirror_mode": {
    "name": "ipython",
    "version": 3
   },
   "file_extension": ".py",
   "mimetype": "text/x-python",
   "name": "python",
   "nbconvert_exporter": "python",
   "pygments_lexer": "ipython3",
   "version": "3.7.1"
  }
 },
 "nbformat": 4,
 "nbformat_minor": 2
}
