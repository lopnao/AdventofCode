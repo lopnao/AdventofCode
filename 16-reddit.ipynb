{
 "cells": [
  {
   "cell_type": "code",
   "execution_count": 2,
   "metadata": {},
   "outputs": [
    {
     "ename": "TypeError",
     "evalue": "'map' object is not subscriptable",
     "output_type": "error",
     "traceback": [
      "\u001b[1;31m---------------------------------------------------------------------------\u001b[0m",
      "\u001b[1;31mTypeError\u001b[0m                                 Traceback (most recent call last)",
      "\u001b[1;32m<ipython-input-2-f473efe2cd08>\u001b[0m in \u001b[0;36m<module>\u001b[1;34m\u001b[0m\n\u001b[0;32m     47\u001b[0m         \u001b[0minstr\u001b[0m \u001b[1;33m=\u001b[0m \u001b[0mmap\u001b[0m\u001b[1;33m(\u001b[0m\u001b[0mint\u001b[0m\u001b[1;33m,\u001b[0m \u001b[0mre\u001b[0m\u001b[1;33m.\u001b[0m\u001b[0mfindall\u001b[0m\u001b[1;33m(\u001b[0m\u001b[1;34m'-?\\d+'\u001b[0m\u001b[1;33m,\u001b[0m \u001b[0mlines\u001b[0m\u001b[1;33m[\u001b[0m\u001b[0mi\u001b[0m\u001b[1;33m+\u001b[0m\u001b[1;36m1\u001b[0m\u001b[1;33m]\u001b[0m\u001b[1;33m)\u001b[0m\u001b[1;33m)\u001b[0m\u001b[1;33m\u001b[0m\u001b[1;33m\u001b[0m\u001b[0m\n\u001b[0;32m     48\u001b[0m         \u001b[0mafter\u001b[0m \u001b[1;33m=\u001b[0m \u001b[0mmap\u001b[0m\u001b[1;33m(\u001b[0m\u001b[0mint\u001b[0m\u001b[1;33m,\u001b[0m \u001b[0mre\u001b[0m\u001b[1;33m.\u001b[0m\u001b[0mfindall\u001b[0m\u001b[1;33m(\u001b[0m\u001b[1;34m'-?\\d+'\u001b[0m\u001b[1;33m,\u001b[0m \u001b[0mlines\u001b[0m\u001b[1;33m[\u001b[0m\u001b[0mi\u001b[0m\u001b[1;33m+\u001b[0m\u001b[1;36m2\u001b[0m\u001b[1;33m]\u001b[0m\u001b[1;33m)\u001b[0m\u001b[1;33m)\u001b[0m\u001b[1;33m\u001b[0m\u001b[1;33m\u001b[0m\u001b[0m\n\u001b[1;32m---> 49\u001b[1;33m         \u001b[0moptions\u001b[0m\u001b[1;33m[\u001b[0m\u001b[0minstr\u001b[0m\u001b[1;33m[\u001b[0m\u001b[1;36m0\u001b[0m\u001b[1;33m]\u001b[0m\u001b[1;33m]\u001b[0m \u001b[1;33m=\u001b[0m \u001b[1;33m[\u001b[0m\u001b[1;33m(\u001b[0m\u001b[0midx\u001b[0m\u001b[1;33m,\u001b[0m\u001b[0mfn\u001b[0m\u001b[1;33m)\u001b[0m \u001b[1;32mfor\u001b[0m \u001b[1;33m(\u001b[0m\u001b[0midx\u001b[0m\u001b[1;33m,\u001b[0m\u001b[0mfn\u001b[0m\u001b[1;33m)\u001b[0m \u001b[1;32min\u001b[0m \u001b[0moptions\u001b[0m\u001b[1;33m[\u001b[0m\u001b[0minstr\u001b[0m\u001b[1;33m[\u001b[0m\u001b[1;36m0\u001b[0m\u001b[1;33m]\u001b[0m\u001b[1;33m]\u001b[0m \u001b[1;32mif\u001b[0m \u001b[0mfn\u001b[0m\u001b[1;33m(\u001b[0m\u001b[0mbefore\u001b[0m\u001b[1;33m,\u001b[0m\u001b[0minstr\u001b[0m\u001b[1;33m)\u001b[0m \u001b[1;33m==\u001b[0m \u001b[0mafter\u001b[0m\u001b[1;33m]\u001b[0m\u001b[1;33m\u001b[0m\u001b[1;33m\u001b[0m\u001b[0m\n\u001b[0m\u001b[0;32m     50\u001b[0m \u001b[1;33m\u001b[0m\u001b[0m\n\u001b[0;32m     51\u001b[0m         \u001b[0mmatches\u001b[0m \u001b[1;33m=\u001b[0m \u001b[1;36m0\u001b[0m\u001b[1;33m\u001b[0m\u001b[1;33m\u001b[0m\u001b[0m\n",
      "\u001b[1;31mTypeError\u001b[0m: 'map' object is not subscriptable"
     ]
    }
   ],
   "source": [
    "import re\n",
    "\n",
    "def do_cmd(fn):\n",
    "    def final(before, instr):\n",
    "        after = list(before)\n",
    "        after[instr[3]] = fn(before, instr[1], instr[2])\n",
    "        return after\n",
    "    return final\n",
    "\n",
    "addr = do_cmd(lambda before,x,y: before[x]+before[y])\n",
    "addi = do_cmd(lambda before,x,y: before[x]+y)\n",
    "mulr = do_cmd(lambda before,x,y: before[x]*before[y])\n",
    "muli = do_cmd(lambda before,x,y: before[x]*y)\n",
    "banr = do_cmd(lambda before,x,y: before[x] & before[y])\n",
    "bani = do_cmd(lambda before,x,y: before[x] & y)\n",
    "borr = do_cmd(lambda before,x,y: before[x] | before[y])\n",
    "bori = do_cmd(lambda before,x,y: before[x] | y)\n",
    "setr = do_cmd(lambda before,x,y: before[x])\n",
    "seti = do_cmd(lambda before,x,y: x)\n",
    "gtir = do_cmd(lambda before,x,y: 1 if x > before[y] else 0)\n",
    "gtri = do_cmd(lambda before,x,y: 1 if before[x] > y else 0)\n",
    "gtrr = do_cmd(lambda before,x,y: 1 if before[x] > before[y] else 0)\n",
    "eqir = do_cmd(lambda before,x,y: 1 if x == before[y] else 0)\n",
    "eqri = do_cmd(lambda before,x,y: 1 if before[x] == y else 0)\n",
    "eqrr = do_cmd(lambda before,x,y: 1 if before[x] == before[y] else 0)\n",
    "\n",
    "cmds = [ addr, addi\n",
    "       , mulr, muli\n",
    "       , banr, bani\n",
    "       , borr, bori\n",
    "       , setr, seti\n",
    "       , gtir, gtri, gtrr\n",
    "       , eqir, eqri, eqrr\n",
    "       ]\n",
    "\n",
    "options = {}\n",
    "for code in range(16):\n",
    "    options[code] = list(enumerate(cmds))\n",
    "\n",
    "lines,program = open('16.in').read().strip().split('\\n\\n\\n')\n",
    "lines = lines.strip().split('\\n')\n",
    "ans = 0\n",
    "for i in range(0, len(lines), 4):\n",
    "    if 'Before' in lines[i]:\n",
    "        assert 'After:' in lines[i+2]\n",
    "        before = map(int, re.findall('-?\\d+', lines[i]))\n",
    "        instr = map(int, re.findall('-?\\d+', lines[i+1]))\n",
    "        after = map(int, re.findall('-?\\d+', lines[i+2]))\n",
    "        options[instr[0]] = [(idx,fn) for (idx,fn) in options[instr[0]] if fn(before,instr) == after]\n",
    "\n",
    "        matches = 0\n",
    "        for idx,cmd in options[instr[0]]:\n",
    "            if cmd(before, instr) == after:\n",
    "                matches += 1\n",
    "        if matches >= 3:\n",
    "            ans += 1\n",
    "\n",
    "print(ans)\n",
    "for _ in range(16):\n",
    "    for code in range(16):\n",
    "        if len(options[code]) == 1:\n",
    "            for other_code in range(16):\n",
    "                if other_code != code:\n",
    "                    options[other_code] = [(idx,fn) for (idx,fn) in options[other_code] if idx!=options[code][0][0]]\n",
    "        \n",
    "\n",
    "#for code in range(16):\n",
    "#    print code, options[code]\n",
    "\n",
    "registers = [0,0,0,0]\n",
    "for line in program.strip().split('\\n'):\n",
    "    instr = map(int, re.findall('-?\\d+', line))\n",
    "    old_registers = list(registers)\n",
    "    registers = options[instr[0]][0][1](registers, instr)\n",
    "print(registers[0])"
   ]
  },
  {
   "cell_type": "code",
   "execution_count": null,
   "metadata": {},
   "outputs": [],
   "source": []
  }
 ],
 "metadata": {
  "kernelspec": {
   "display_name": "Python 3",
   "language": "python",
   "name": "python3"
  },
  "language_info": {
   "codemirror_mode": {
    "name": "ipython",
    "version": 3
   },
   "file_extension": ".py",
   "mimetype": "text/x-python",
   "name": "python",
   "nbconvert_exporter": "python",
   "pygments_lexer": "ipython3",
   "version": "3.7.1"
  }
 },
 "nbformat": 4,
 "nbformat_minor": 2
}
